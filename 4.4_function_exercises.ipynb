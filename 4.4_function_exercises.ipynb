{
 "cells": [
  {
   "cell_type": "markdown",
   "metadata": {},
   "source": [
    "## Exercises\n",
    "\n",
    "Create a file named 4.4_function_exercises.py for this exercise. After creating each function specified below, write the necessary code in order to test your function."
   ]
  },
  {
   "cell_type": "markdown",
   "metadata": {},
   "source": [
    "1. Define a function named is_two. It should accept one input and return True if the passed input is either the number or the string 2, False otherwise."
   ]
  },
  {
   "cell_type": "code",
   "execution_count": 51,
   "metadata": {},
   "outputs": [],
   "source": [
    "def is_two(x):\n",
    "    \"\"\" Returns a True if x == number or string 2, otherwise False\n",
    "    \"\"\"\n",
    "    return x in [2, \"2\"]\n",
    "\n",
    "assert is_two(2) == True\n",
    "assert is_two(\"2\") == True\n",
    "assert is_two(3) == False\n",
    "assert is_two(\"two\") == False"
   ]
  },
  {
   "cell_type": "markdown",
   "metadata": {},
   "source": [
    "2. Define a function named is_vowel. It should return True if the passed string is a vowel, False otherwise.\n"
   ]
  },
  {
   "cell_type": "code",
   "execution_count": 52,
   "metadata": {},
   "outputs": [],
   "source": [
    "def is_vowel(let):\n",
    "    \"\"\" is_vowel returns True if letter string is a vowel, False if not\n",
    "    \"\"\"\n",
    "    return len(let) == 1 and let.lower() in \"aeiou\"\n",
    "\n",
    "assert is_vowel(\"A\") == True\n",
    "assert is_vowel(\"a\") == True\n",
    "assert is_vowel(\"E\") == True\n",
    "assert is_vowel(\"ba\") == False"
   ]
  },
  {
   "cell_type": "markdown",
   "metadata": {},
   "source": [
    "3. Define a function named is_consonant. It should return True if the passed string is a consonant, False otherwise. Use your is_vowel function to accomplish this."
   ]
  },
  {
   "cell_type": "code",
   "execution_count": 53,
   "metadata": {},
   "outputs": [],
   "source": [
    "def is_consonant(let):\n",
    "    \"\"\"use is_vowel to return True if consonant, False if vowel\n",
    "    \"\"\"\n",
    "    #return len(let) == 1 and let not in \"aeiou\"\n",
    "    return not is_vowel(let)\n",
    "assert is_consonant(\"c\") == True\n",
    "assert is_consonant(\"r\") == True\n",
    "assert is_consonant(\"y\") == True\n",
    "assert is_consonant(\"a\") == False"
   ]
  },
  {
   "cell_type": "markdown",
   "metadata": {},
   "source": [
    "4. Define a function that accepts a string that is a word. The function should capitalize the first letter of the word if the word starts with a consonant."
   ]
  },
  {
   "cell_type": "code",
   "execution_count": 54,
   "metadata": {},
   "outputs": [],
   "source": [
    "def caps_for_cons(word):\n",
    "    return word.capitalize() if is_consonant(word[0]) else word\n",
    "# #     if word[0] in [\"a\", \"e\", \"i\", \"o\", \"u\"]:\n",
    "# #         return word\n",
    "# #     else:\n",
    "# #         return word.capitalize()\n",
    "#     if is_consonant(word):\n",
    "    \n",
    "\n",
    "assert caps_for_cons(\"tony\") == \"Tony\"\n",
    "assert caps_for_cons(\"8\") == \"8\""
   ]
  },
  {
   "cell_type": "markdown",
   "metadata": {},
   "source": [
    "5. Define a function named calculate_tip. It should accept a tip percentage (a number between 0 and 1) and the bill total, and return the amount to tip."
   ]
  },
  {
   "cell_type": "code",
   "execution_count": 55,
   "metadata": {},
   "outputs": [
    {
     "data": {
      "text/plain": [
       "'You should tip $4.0 for a total of $24.0.'"
      ]
     },
     "execution_count": 55,
     "metadata": {},
     "output_type": "execute_result"
    }
   ],
   "source": [
    "def calculate_tip(tip, total):\n",
    "    return f\"You should tip ${tip * total} for a total of ${tip * total + total}.\"\n",
    "\n",
    "calculate_tip(.2, 20)"
   ]
  },
  {
   "cell_type": "markdown",
   "metadata": {},
   "source": [
    "6. Define a function named apply_discount. It should accept a original price, and a discount percentage, and return the price after the discount is applied."
   ]
  },
  {
   "cell_type": "code",
   "execution_count": 56,
   "metadata": {},
   "outputs": [],
   "source": [
    "def apply_discount(price, discount):\n",
    "    return f\"The price is ${price}, your discount is {discount}, and your new total is ${price - price * discount}.\"\n",
    "\n",
    "assert apply_discount(20, .2) == 'The price is $20, your discount is 0.2, and your new total is $16.0.'"
   ]
  },
  {
   "cell_type": "markdown",
   "metadata": {},
   "source": [
    "7. Define a function named handle_commas. It should accept a string that is a number that contains commas in it as input, and return a number as output.\n"
   ]
  },
  {
   "cell_type": "code",
   "execution_count": 57,
   "metadata": {},
   "outputs": [],
   "source": [
    "def handle_commas(word):\n",
    "    return float(word.replace(\",\", \"\"))\n",
    "\n",
    "assert handle_commas(\"2,000\") == 2000.0"
   ]
  },
  {
   "cell_type": "markdown",
   "metadata": {},
   "source": [
    "8. Define a function named get_letter_grade. It should accept a number and return the letter grade associated with that number (A-F).\n"
   ]
  },
  {
   "cell_type": "code",
   "execution_count": 58,
   "metadata": {},
   "outputs": [],
   "source": [
    "def get_letter_grade(grade):\n",
    "    if grade >= 90:\n",
    "        return \"A\"\n",
    "    elif grade >= 80:\n",
    "        return \"B\"\n",
    "    elif grade >= 70:\n",
    "        return \"C\"\n",
    "    elif grade >= 65:\n",
    "        return \"D\"\n",
    "    else:\n",
    "        return \"F\"\n",
    "\n",
    "assert get_letter_grade(72) == 'C'"
   ]
  },
  {
   "cell_type": "markdown",
   "metadata": {},
   "source": [
    "9. Define a function named remove_vowels that accepts a string and returns a string with all the vowels removed."
   ]
  },
  {
   "cell_type": "code",
   "execution_count": 59,
   "metadata": {},
   "outputs": [],
   "source": [
    "def remove_vowels(word):\n",
    "    \"\"\" remove_vowels() returns a word without vowels\n",
    "    \"\"\"\n",
    "    for let in word:\n",
    "        if let in \"aeiou\":\n",
    "            return word.replace(let,\"\")\n",
    "\n",
    "assert remove_vowels(\"happy\") == 'hppy'"
   ]
  },
  {
   "cell_type": "code",
   "execution_count": 60,
   "metadata": {},
   "outputs": [],
   "source": [
    "# list comprehension version of remove_vowels\n",
    "def remove_vowels(word):\n",
    "    \"\"\" remove_vowels() returns a word without vowels\n",
    "    \"\"\"\n",
    "    return ''.join([word.replace(let,\"\") for let in word if let in \"aeiou\"])\n",
    "\n",
    "assert remove_vowels(\"happy\") == 'hppy'"
   ]
  },
  {
   "cell_type": "markdown",
   "metadata": {},
   "source": [
    "10. Define a function named normalize_name. It should accept a string and return a valid python identifier, that is:\n",
    "\n",
    "\n",
    "    -anything that is not a valid python identifier should be removed\n",
    "\n",
    "    -leading and trailing whitespace should be removed\n",
    "\n",
    "    -everything should be lowercase\n",
    "\n",
    "    -spaces should be replaced with underscores\n",
    "\n",
    "        for example:\n",
    "        \n",
    "        Name will become name\n",
    "\n",
    "        First Name will become first_name\n",
    "        \n",
    "        % Completed will become completed"
   ]
  },
  {
   "cell_type": "code",
   "execution_count": 61,
   "metadata": {},
   "outputs": [
    {
     "data": {
      "text/plain": [
       "'completed'"
      ]
     },
     "execution_count": 61,
     "metadata": {},
     "output_type": "execute_result"
    }
   ],
   "source": [
    "def normalize_name(word):\n",
    "    \"\"\"normalize_name takes a string and returns a valid python identifier\n",
    "    \"\"\"\n",
    "    return word.strip(\"0123456789!@#$%^&*_() +=\\/?<>,.`~;:\").lower().replace(\" \",\"_\")\n",
    "\n",
    "normalize_name(\"% Completed\")\n"
   ]
  },
  {
   "cell_type": "markdown",
   "metadata": {},
   "source": [
    "11. Write a function named cumsum that accepts a list of numbers and returns a list that is the cumulative sum of the numbers in the list.\n",
    "\n",
    "    -cumsum([1, 1, 1]) returns [1, 2, 3]\n",
    "    \n",
    "    -cumsum([1, 2, 3, 4]) returns [1, 3, 6, 10]"
   ]
  },
  {
   "cell_type": "code",
   "execution_count": 62,
   "metadata": {},
   "outputs": [],
   "source": [
    "def cumsum(lst):\n",
    "    for i in range(1,len(lst)):\n",
    "        lst[i] = lst[i- 1 ] + lst[i]\n",
    "    return lst\n",
    "\n",
    "assert cumsum([1, 1, 1]) == [1, 2, 3]"
   ]
  },
  {
   "cell_type": "markdown",
   "metadata": {},
   "source": [
    "## Bonus\n",
    "\n",
    "Create a function named twelveto24. It should accept a string in the format 10:45am or 4:30pm and return a string that is the representation of the time in a 24-hour format. \n",
    "\n",
    "#### Bonus write a function that does the opposite."
   ]
  },
  {
   "cell_type": "code",
   "execution_count": 63,
   "metadata": {},
   "outputs": [],
   "source": [
    "def twelveto24(item):\n",
    "    \"\"\"twelveto24() takes in a string time and\n",
    "    returns the time in a 24-hour format\n",
    "    \"\"\"\n",
    "    #checks that first two chars 12 and last two am\n",
    "    if item[:2] == \"12\" and item[-2:] == \"am\":\n",
    "        #returns 00:00\n",
    "        return \"00\" + item[2:-2] \n",
    "    #checks that last two chars are am\n",
    "    elif item[-2:] == \"am\" :\n",
    "        #returns without am\n",
    "        return item[:-2]\n",
    "    #checks that last chars are am\n",
    "    elif item[:-2] == \"am\":\n",
    "        #returns the item with a zero added in front\n",
    "        return \"0\" + item[:-2] \n",
    "    #checks that last two chars are pm and first two 12\n",
    "    elif item[-2:] == \"pm\" and item[:2] == \"12\":\n",
    "        #returns item\n",
    "        return item[:-2]\n",
    "    else:\n",
    "        return str(int(item[:1]) + 12) + item[1:-2]\n",
    "\n",
    "assert twelveto24(\"12:45pm\") == '12:45'\n",
    "assert twelveto24(\"10:45am\") == '10:45'"
   ]
  },
  {
   "cell_type": "markdown",
   "metadata": {},
   "source": [
    "#### Bonus Create a function named col_index. It should accept a spreadsheet column name, and return the index number of the column.\n",
    "\n",
    "col_index('A') returns 1\n",
    "col_index('B') returns 2\n",
    "col_index('AA') returns 27"
   ]
  },
  {
   "cell_type": "code",
   "execution_count": null,
   "metadata": {},
   "outputs": [],
   "source": []
  }
 ],
 "metadata": {
  "kernelspec": {
   "display_name": "Python 3",
   "language": "python",
   "name": "python3"
  },
  "language_info": {
   "codemirror_mode": {
    "name": "ipython",
    "version": 3
   },
   "file_extension": ".py",
   "mimetype": "text/x-python",
   "name": "python",
   "nbconvert_exporter": "python",
   "pygments_lexer": "ipython3",
   "version": "3.7.3"
  }
 },
 "nbformat": 4,
 "nbformat_minor": 2
}
