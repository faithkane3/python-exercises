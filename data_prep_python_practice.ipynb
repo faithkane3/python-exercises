{
 "cells": [
  {
   "cell_type": "markdown",
   "metadata": {},
   "source": [
    "## Numpy\n"
   ]
  },
  {
   "cell_type": "markdown",
   "metadata": {},
   "source": [
    "Create an array"
   ]
  },
  {
   "cell_type": "code",
   "execution_count": null,
   "metadata": {},
   "outputs": [],
   "source": [
    "np.array()"
   ]
  },
  {
   "cell_type": "markdown",
   "metadata": {},
   "source": [
    "Examples:"
   ]
  },
  {
   "cell_type": "code",
   "execution_count": null,
   "metadata": {},
   "outputs": [],
   "source": [
    "a = np.array([1, 2, 3])"
   ]
  },
  {
   "cell_type": "code",
   "execution_count": null,
   "metadata": {},
   "outputs": [],
   "source": [
    "matrix = np.array([[1, 2, 3],\n",
    "                   [4, 5, 6],\n",
    "                   [7, 8, 9]])"
   ]
  },
  {
   "cell_type": "markdown",
   "metadata": {},
   "source": [
    "### Indexing"
   ]
  },
  {
   "cell_type": "code",
   "execution_count": null,
   "metadata": {},
   "outputs": [],
   "source": [
    "a[0]"
   ]
  },
  {
   "cell_type": "code",
   "execution_count": null,
   "metadata": {},
   "outputs": [],
   "source": [
    "matrix[1, 1]"
   ]
  },
  {
   "cell_type": "markdown",
   "metadata": {},
   "source": [
    "To get the first 2 elements of the last 2 rows:"
   ]
  },
  {
   "cell_type": "code",
   "execution_count": null,
   "metadata": {},
   "outputs": [],
   "source": [
    "matrix[1:, :2]"
   ]
  },
  {
   "cell_type": "markdown",
   "metadata": {},
   "source": [
    "Arrays can also be indexed with a boolean sequence used to indicate which values should be included in the resulting array.\n",
    "\n"
   ]
  },
  {
   "cell_type": "code",
   "execution_count": null,
   "metadata": {},
   "outputs": [],
   "source": [
    "should_include_elements = [True, False, True]"
   ]
  },
  {
   "cell_type": "markdown",
   "metadata": {},
   "source": [
    "### Vectorized Operations"
   ]
  },
  {
   "cell_type": "code",
   "execution_count": null,
   "metadata": {},
   "outputs": [],
   "source": [
    "my_array      == [-3  0  3 16]\n",
    "my_array - 5  == [-8 -5 -2 11]\n",
    "my_array * 4  == [-12   0  12  64]\n",
    "my_array / 2  == [-1.5  0.   1.5  8. ]\n",
    "my_array ** 2 == [  9   0   9 256]\n",
    "my_array % 2  == [1 0 1 0]"
   ]
  },
  {
   "cell_type": "markdown",
   "metadata": {},
   "source": [
    "### Vectorized Comparison Operators"
   ]
  },
  {
   "cell_type": "code",
   "execution_count": null,
   "metadata": {},
   "outputs": [],
   "source": [
    "my_array       == [-3  0  3 16]\n",
    "my_array == -3 == [ True False False False]\n",
    "my_array >= 0  == [False  True  True  True]\n",
    "my_array < 10  == [ True  True  True False]"
   ]
  },
  {
   "cell_type": "markdown",
   "metadata": {},
   "source": [
    "### Variable Substitution (Boolean Masks)"
   ]
  },
  {
   "cell_type": "code",
   "execution_count": null,
   "metadata": {},
   "outputs": [],
   "source": [
    "my_array[my_array % 2 == 0]"
   ]
  },
  {
   "cell_type": "markdown",
   "metadata": {},
   "source": [
    "my_array[] is substituting the original values for the inner Boolean Mask\n",
    "\n",
    "    It's wrapping the Boolean Mask"
   ]
  },
  {
   "cell_type": "markdown",
   "metadata": {},
   "source": [
    "### random.randn(), zeros(), ones()"
   ]
  },
  {
   "cell_type": "code",
   "execution_count": null,
   "metadata": {},
   "outputs": [],
   "source": [
    "np.random.rand(10)            (random array, uniform distribution between 1 and 0)\n",
    "np.random.randn(10)           (random array, normal distribution between 1 and 0)\n",
    "np.random.randint(50, 100, 5) (random array, integers between start, stop, length)\n",
    "\n",
    "np.random.randint(low=60, high=100, size=len(students))\n",
    "                              (another use example above)\n",
    "\n",
    "np.random.randn(3, 4)         (random matrix)"
   ]
  },
  {
   "cell_type": "code",
   "execution_count": null,
   "metadata": {},
   "outputs": [],
   "source": [
    "np.zeros(3)    == [0. 0. 0.]   (create an array of zeros with specified length)\n",
    "np.ones(3)     == [1. 1. 1.]   (create an array of ones with specified length)\n",
    "np.full(3, 17) == [17 17 17]   (create an array of specialized size with a default value)"
   ]
  },
  {
   "cell_type": "markdown",
   "metadata": {},
   "source": [
    "### arange()"
   ]
  },
  {
   "cell_type": "code",
   "execution_count": null,
   "metadata": {},
   "outputs": [],
   "source": [
    "np.arange(1, 4, 2)   (arange() can handle decimal numbers)\n",
    "\n",
    "(start, [stop], [step])   (stop is not inclusive)"
   ]
  },
  {
   "cell_type": "markdown",
   "metadata": {},
   "source": [
    "### linspace()"
   ]
  },
  {
   "cell_type": "code",
   "execution_count": null,
   "metadata": {},
   "outputs": [],
   "source": [
    "np.linspace(1, 4, 4)  (create a range of numbers with a set number of element between the min and max)\n",
    "\n",
    "(min, max, length)    (the max is inclusive)"
   ]
  },
  {
   "cell_type": "markdown",
   "metadata": {},
   "source": [
    "### Array Methods and Properties"
   ]
  },
  {
   "cell_type": "code",
   "execution_count": null,
   "metadata": {},
   "outputs": [],
   "source": [
    "a.min()\n",
    "a.max()\n",
    "a.mean()\n",
    "a.sum()\n",
    "a.std()\n",
    "idn = np.eye(4)   (identity matrix creates a diagonal of ones across all zeros)\n",
    "a.reshape(#,#)    (rows, columns) (elements in array must == the product of the desired rows and columns)\n",
    "array.T           (transpose array)\n",
    "array.transpose() (transpose array)"
   ]
  },
  {
   "cell_type": "markdown",
   "metadata": {},
   "source": [
    "### Functions"
   ]
  },
  {
   "cell_type": "code",
   "execution_count": null,
   "metadata": {},
   "outputs": [],
   "source": [
    "np.median(array)\n",
    "np.arange()\n",
    "np.linspace()\n",
    "np.idxmax(array)             (returns the first row label of the max value)\n",
    "np.idxmin(array)             (returns the first row label of the min value)\n",
    "argmin(array)           (returns the index of the max value)\n",
    "argmax(array)           (returns the index of the min value)\n",
    "np.log(array)           (returns an array with the log of the elements of the input)\n",
    "np.exp(array)           (returns an array with the exponents of the elements)\n",
    "np.sqrt(array)\n",
    "np.sin(array)\n",
    "x_array.dot(y_array)    (returns the sum of the matrices multiplied together)\n",
    "                        (same as sum(x_array * y_array))\n",
    "np.dot(x_array, y_array)(returns a new matrix for product of elements in input matrices)\n"
   ]
  },
  {
   "cell_type": "markdown",
   "metadata": {},
   "source": [
    "## Pandas Series"
   ]
  },
  {
   "cell_type": "markdown",
   "metadata": {},
   "source": [
    "Series can be created from a list or a numpy array:"
   ]
  },
  {
   "cell_type": "code",
   "execution_count": null,
   "metadata": {},
   "outputs": [],
   "source": [
    "series = pd.Series([100, 43, 26, 17])"
   ]
  },
  {
   "cell_type": "markdown",
   "metadata": {},
   "source": [
    "Name your series if you like with:"
   ]
  },
  {
   "cell_type": "code",
   "execution_count": null,
   "metadata": {},
   "outputs": [],
   "source": [
    "series.name = 'My Numbers'"
   ]
  },
  {
   "cell_type": "code",
   "execution_count": null,
   "metadata": {},
   "outputs": [],
   "source": [
    "series.index\n",
    "series.dtype\n",
    "series.astype()       (astype(\"str\"), astype(\"float\"))"
   ]
  },
  {
   "cell_type": "markdown",
   "metadata": {},
   "source": [
    "### Series Methods\n"
   ]
  },
  {
   "cell_type": "code",
   "execution_count": null,
   "metadata": {},
   "outputs": [],
   "source": [
    "series.any()                (series < 0).any()\n",
    "series.all()                (series < 0).all()\n",
    "series.head()\n",
    "series.tail()\n",
    "series.value_counts         (returns a count of the unique values in a series)\n",
    "series.isin(set_of_values)  (returns whether or not each value in a series is in a set of known values)\n",
    "series.unique()             (returns unique values as NumPy array)\n",
    "series.str.contains(\"blah\")"
   ]
  },
  {
   "cell_type": "markdown",
   "metadata": {},
   "source": [
    "### Series Functions"
   ]
  },
  {
   "cell_type": "code",
   "execution_count": null,
   "metadata": {},
   "outputs": [],
   "source": [
    "series.count()\n",
    "series.sum()\n",
    "series.mean()\n",
    "series.median()\n",
    "series.min()\n",
    "series.max()\n",
    "series.mode()\n",
    "series.abs()\n",
    "series.std()\n",
    "series.quantile(value at %)\n",
    "series.cumsum()\n",
    "series.cummax()\n",
    "series.cummin()\n",
    "series.apply(function name or lambda function)    series.apply(lambda n: 'even' if n % 2 == 0 else 'odd')\n",
    "string_series.str.lower()        (vectorize string functions)\n",
    "string_series.str.capitalize()"
   ]
  },
  {
   "cell_type": "markdown",
   "metadata": {},
   "source": [
    "### Subsetting and Indexing\n"
   ]
  },
  {
   "cell_type": "markdown",
   "metadata": {},
   "source": [
    "Like numpy arrays, we can use a series of boolean values to subset a series.\n",
    "\n"
   ]
  },
  {
   "cell_type": "code",
   "execution_count": null,
   "metadata": {},
   "outputs": [],
   "source": [
    "series[series > 40]\n",
    "letters_series[letters_series.isin(vowels)]"
   ]
  },
  {
   "cell_type": "markdown",
   "metadata": {},
   "source": [
    "### Transforming Numerical to Categorical Values\n"
   ]
  },
  {
   "cell_type": "markdown",
   "metadata": {},
   "source": [
    "We can use the cut function from pandas to put numerical values into discrete bins.\n",
    "\n",
    "We can either specify the number of bins to create, and pandas will create bins with an even size, or we can specify the bins themselves:\n",
    "\n"
   ]
  },
  {
   "cell_type": "code",
   "execution_count": null,
   "metadata": {},
   "outputs": [],
   "source": [
    "s = pd.Series(list(range(15)))      (return a series of ints 0 to 14)\n",
    "pd.cut(s, 3)                        (put the series into three equal bins)\n",
    "pd.cut(s, [-1, 3, 12, 16])          (put the series into specified bins)"
   ]
  },
  {
   "cell_type": "markdown",
   "metadata": {},
   "source": [
    "## Dataframes\n"
   ]
  },
  {
   "cell_type": "markdown",
   "metadata": {},
   "source": [
    "### Dataframe Methods and Attributes"
   ]
  },
  {
   "cell_type": "code",
   "execution_count": null,
   "metadata": {},
   "outputs": [],
   "source": [
    "df.info()\n",
    "df.describe()\n",
    "df.dtypes         (returns the type of each column)\n",
    "df.shape          (returns the number of rows and columns)\n",
    "df.index          (returns the labels for each row (usually autogen number))\n",
    "\n",
    "df.columns        (This can return the column names with dtype    OR\n",
    "                  (.columns can be assigned to to change the name of columns)\n",
    "df.columns = [col.upper() for col in df.columns]\n",
    "\n",
    "df.head()\n",
    "df.tail()\n",
    "df.sample()"
   ]
  },
  {
   "cell_type": "markdown",
   "metadata": {},
   "source": [
    "### Accessing Multiple Columns\n"
   ]
  },
  {
   "cell_type": "code",
   "execution_count": null,
   "metadata": {},
   "outputs": [],
   "source": [
    "df[['name', 'math']]\n",
    "\n",
    "columns = ['name', 'math']\n",
    "df[columns]\n"
   ]
  },
  {
   "cell_type": "markdown",
   "metadata": {},
   "source": [
    "### Accessing Individual Columns\n"
   ]
  },
  {
   "cell_type": "code",
   "execution_count": null,
   "metadata": {},
   "outputs": [],
   "source": [
    "df.math\n",
    "df['math']"
   ]
  },
  {
   "cell_type": "markdown",
   "metadata": {},
   "source": [
    "### Subsetting and Indexing\n"
   ]
  },
  {
   "cell_type": "code",
   "execution_count": null,
   "metadata": {},
   "outputs": [],
   "source": [
    "df.math < 80             (returns a boolean series or boolean mask)\n",
    "df[df.math < 80]         (returns the entire row in df where condition is True)\n",
    "                         (wrapping the boolean mask in original df)"
   ]
  },
  {
   "cell_type": "markdown",
   "metadata": {},
   "source": [
    "### Dropping and Renaming Columns\n"
   ]
  },
  {
   "cell_type": "code",
   "execution_count": null,
   "metadata": {},
   "outputs": [],
   "source": [
    "#(Both of these methods produce new dataframes, not change the original)\n",
    "# unless you change the optional kwarg inplace to inplace=True)\n",
    "\n",
    "df.drop()\n",
    "\n",
    "df.drop(columns=['english', 'reading'])\n",
    "\n",
    ".rename\n",
    "\n",
    "df.rename(columns={'name': 'student'})\n",
    "                  (original: new_name)"
   ]
  },
  {
   "cell_type": "markdown",
   "metadata": {},
   "source": [
    "Because these methods each return a dataframe, we can chain them together:\n",
    "\n"
   ]
  },
  {
   "cell_type": "code",
   "execution_count": null,
   "metadata": {},
   "outputs": [],
   "source": [
    "df.drop(columns=['english', 'reading']).rename(columns={'name': 'student'})"
   ]
  },
  {
   "cell_type": "markdown",
   "metadata": {},
   "source": [
    "### Creating New Columns\n"
   ]
  },
  {
   "cell_type": "code",
   "execution_count": null,
   "metadata": {},
   "outputs": [],
   "source": [
    "# This method creates a new column in our original dataframe\n",
    "# create a new column based on the contents of another \n",
    "\n",
    "df['passing_math'] = df.math > 70\n",
    "\n",
    "# df.assign() returns a new dataframe and not modify existing df\n",
    "\n",
    "df.assign()\n",
    "\n",
    "df.assign(passing_english=df.english >= 70)"
   ]
  },
  {
   "cell_type": "markdown",
   "metadata": {},
   "source": [
    "### Sorting Dataframes\n"
   ]
  },
  {
   "cell_type": "code",
   "execution_count": null,
   "metadata": {},
   "outputs": [],
   "source": [
    ".sort_values()\n",
    "\n",
    "df.sort_values(by='english')\n",
    "df.sort_values(by='english', ascending=False)"
   ]
  },
  {
   "cell_type": "markdown",
   "metadata": {},
   "source": [
    "### Chaining Dataframe Methods\n"
   ]
  },
  {
   "cell_type": "markdown",
   "metadata": {},
   "source": [
    "Because most dataframe methods return another dataframe, it is common to see them chained together.\n",
    "\n"
   ]
  },
  {
   "cell_type": "code",
   "execution_count": null,
   "metadata": {},
   "outputs": [],
   "source": [
    "df[df.english > 90].sort_values(by='english').head(1).name"
   ]
  },
  {
   "cell_type": "markdown",
   "metadata": {},
   "source": [
    "### Creating Dataframes\n"
   ]
  },
  {
   "cell_type": "markdown",
   "metadata": {},
   "source": [
    "From Lists and Dictionaries\n"
   ]
  },
  {
   "cell_type": "code",
   "execution_count": null,
   "metadata": {},
   "outputs": [],
   "source": [
    "pd.DataFrame({'A': [1, 2, 3], 'B': [4, 5, 6]})\n",
    "\n",
    "pd.DataFrame([[1, 2, 3], [4, 5, 6]])\n",
    "\n",
    "data = np.array([[1, 2, 3], [4, 5, 6]])\n",
    "pd.DataFrame(data, columns=['a', 'b', 'c'])\n",
    "# Notice here that we had to specify the names of the columns ourselves."
   ]
  },
  {
   "cell_type": "markdown",
   "metadata": {},
   "source": [
    "From Text Files\n"
   ]
  },
  {
   "cell_type": "code",
   "execution_count": null,
   "metadata": {},
   "outputs": [],
   "source": [
    "read_csv\n",
    "read_json\n",
    "read_table\n",
    "read_sql    (method to create a dataframe based on the results of a SQL query)\n",
    "\n",
    "# database connection urls will have this format\n",
    "# (protocol://[user[:password]@]hostname/[database_name])\n",
    "# example:  mysql+pymysql://codeup:p@assw0rd@123.123.123.123/some_db"
   ]
  },
  {
   "cell_type": "markdown",
   "metadata": {},
   "source": [
    "Another thing we need to consider is that we don't want to publish our database credentials to github, however, we will need access to these values in our code in order to create the connection string defined above.\n",
    "\n",
    "In order to accomplish this, we can define several variables in a file named env.py that contain the sensitive data, add env.py to our .gitignore file, and then import those values into another script."
   ]
  },
  {
   "cell_type": "code",
   "execution_count": null,
   "metadata": {},
   "outputs": [],
   "source": [
    "from env import host, user, password\n",
    "\n",
    "url = f'mysql+pymysql://{user}:{password}@{host}/employees'"
   ]
  },
  {
   "cell_type": "markdown",
   "metadata": {},
   "source": [
    "Once this url is defined, we can use it with the read_sql function to have pandas treat the results of a SQL query as a dataframe."
   ]
  },
  {
   "cell_type": "code",
   "execution_count": null,
   "metadata": {},
   "outputs": [],
   "source": [
    "pd.read_sql('SELECT * FROM employees LIMIT 5 OFFSET 50', url)"
   ]
  },
  {
   "cell_type": "markdown",
   "metadata": {},
   "source": [
    "It is common to have longer SQL queries that we want to read into python, and an example of how we might break a query into several lines is below:\n",
    "\n"
   ]
  },
  {
   "cell_type": "code",
   "execution_count": null,
   "metadata": {},
   "outputs": [],
   "source": [
    "sql = '''\n",
    "SELECT\n",
    "    emp_no,\n",
    "    first_name,\n",
    "    last_name\n",
    "FROM employees\n",
    "WHERE gender = 'F'\n",
    "LIMIT 5\n",
    "OFFSET 200\n",
    "'''\n",
    "\n",
    "pd.read_sql(sql, url)"
   ]
  },
  {
   "cell_type": "code",
   "execution_count": null,
   "metadata": {},
   "outputs": [],
   "source": [
    "query = '''\n",
    "SELECT\n",
    "    t.title as title,\n",
    "    d.dept_name as dept_name\n",
    "FROM titles t\n",
    "JOIN dept_emp USING (emp_no)\n",
    "JOIN departments d USING (dept_no)\n",
    "'''\n",
    "\n",
    "employees = pd.read_sql(query, url)"
   ]
  },
  {
   "cell_type": "markdown",
   "metadata": {},
   "source": [
    "### Aggregation\n"
   ]
  },
  {
   "cell_type": "code",
   "execution_count": null,
   "metadata": {},
   "outputs": [],
   "source": [
    "# The .agg function lets us specify a way to aggregate a series of numerical values.\n",
    "\n",
    "df.reading.agg('min')\n",
    "\n",
    "df[['english', 'reading', 'math']].agg(['mean', 'min', 'max'])\n",
    "# This returns a dataframe with the above columns and calculated values"
   ]
  },
  {
   "cell_type": "markdown",
   "metadata": {},
   "source": [
    "### Grouping\n"
   ]
  },
  {
   "cell_type": "markdown",
   "metadata": {},
   "source": [
    "The .groupby method is used to created a grouped object, which we can then apply an aggregation on. For example, if we wanted to know the highest math grade from each classroom:\n",
    "\n"
   ]
  },
  {
   "cell_type": "code",
   "execution_count": null,
   "metadata": {},
   "outputs": [],
   "source": [
    "df.groupby('classroom').math.max()\n",
    "\n",
    "df.groupby('classroom').math.agg(['min', 'mean', 'max'])\n",
    "# Multiple aggregations\n",
    "\n",
    "(df\n",
    " .assign(passing_math=df.math.apply(lambda n: 'failing' if n < 70 else 'passing'))\n",
    " .groupby(['passing_math', 'classroom']) # note we now pass a list of columns\n",
    " .reading\n",
    " .agg(['mean', 'count']))\n",
    "# Create boolean column named passing_math\n",
    "# Groupby new feature and the classroom\n",
    "# Calculate the average reading grade and number of students in each subgroup\n"
   ]
  },
  {
   "cell_type": "markdown",
   "metadata": {},
   "source": [
    "### .transform()"
   ]
  },
  {
   "cell_type": "markdown",
   "metadata": {},
   "source": [
    "The transform method can be used to produce a series with the same length of the original dataframe where each value represents the aggregation from the grouped by subgroup. For example, if we wanted to know the average math grade for each classroom, and add this data back to our original dataframe:"
   ]
  },
  {
   "cell_type": "code",
   "execution_count": null,
   "metadata": {},
   "outputs": [],
   "source": [
    "df.assign(avg_math_score_by_classroom=df.groupby('classroom').math.transform('mean'))\n",
    "\n",
    "df.groupby('classroom').reading.describe()\n",
    "# group by classroom and get stats breakdown on reading grades"
   ]
  },
  {
   "cell_type": "markdown",
   "metadata": {},
   "source": [
    "### Merging and Joining\n"
   ]
  },
  {
   "cell_type": "code",
   "execution_count": null,
   "metadata": {},
   "outputs": [],
   "source": [
    "pd.concat     (combine dataframes vertically one after the other)\n",
    "\n",
    "df1 = pd.DataFrame({'a': [1, 2, 3]})\n",
    "df2 = pd.DataFrame({'a': [4, 5, 6]})\n",
    "\n",
    "pd.concat([df1, df2])\n",
    "(indeces are preserved from original dataframes, \n",
    " reset_index method can be used to make these sequential)"
   ]
  },
  {
   "cell_type": "code",
   "execution_count": null,
   "metadata": {},
   "outputs": [],
   "source": [
    "pd.merge      (combine dataframes horizontally like SQL Join)\n",
    "\n",
    "pd.merge(users, roles, left_on='role_id', right_on='id', how='left')\n",
    "\n",
    "pd.merge(\n",
    "    users.rename(columns={'id': 'user_id', 'name': 'username'}),\n",
    "    roles.rename(columns={'name': 'role_name'}),\n",
    "    left_on='role_id', right_on='id', how='left')"
   ]
  },
  {
   "cell_type": "markdown",
   "metadata": {},
   "source": [
    "### Reshaping\n"
   ]
  },
  {
   "cell_type": "code",
   "execution_count": null,
   "metadata": {},
   "outputs": [],
   "source": []
  }
 ],
 "metadata": {
  "kernelspec": {
   "display_name": "Python 3",
   "language": "python",
   "name": "python3"
  },
  "language_info": {
   "codemirror_mode": {
    "name": "ipython",
    "version": 3
   },
   "file_extension": ".py",
   "mimetype": "text/x-python",
   "name": "python",
   "nbconvert_exporter": "python",
   "pygments_lexer": "ipython3",
   "version": "3.7.3"
  }
 },
 "nbformat": 4,
 "nbformat_minor": 2
}
