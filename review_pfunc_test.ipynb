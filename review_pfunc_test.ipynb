{
 "cells": [
  {
   "cell_type": "markdown",
   "metadata": {},
   "source": [
    "Write a function named isnegative. It should accept a number and return a boolean value based on whether the input is negative."
   ]
  },
  {
   "cell_type": "code",
   "execution_count": 1,
   "metadata": {},
   "outputs": [],
   "source": [
    "def isnegative(num):\n",
    "    \"\"\">>> from solutions import isnegative\n",
    "    >>> type(isnegative(0))\n",
    "    <class 'bool'>\n",
    "    >>> isnegative(4)\n",
    "    False\n",
    "    >>> isnegative(0)\n",
    "    False\n",
    "    >>> isnegative(-6)\n",
    "    True\"\"\"\n",
    "    return num < 0"
   ]
  },
  {
   "cell_type": "markdown",
   "metadata": {},
   "source": [
    "Write a function named count_evens. It should accept a list and return the number of odd numbers in the list."
   ]
  },
  {
   "cell_type": "code",
   "execution_count": 2,
   "metadata": {},
   "outputs": [],
   "source": [
    "def count_evens(lst):\n",
    "    \"\"\">>> from solutions import count_evens\n",
    "    >>> type(count_evens([1, 2, 3]))\n",
    "    <class 'int'>\n",
    "    >>> count_evens([1, 2, 3])\n",
    "    1\n",
    "    >>> count_evens([4, 6, 8, 10, 12])\n",
    "    5\n",
    "    >>> count_evens([1, 3, 5, 7, 9])\n",
    "    0\n",
    "    >>> count_evens([])\n",
    "    0\n",
    "    >>> count_evens([3, 2])\n",
    "    1\n",
    "    \"\"\"\n",
    "    return len([num for num in lst if num % 2 == 0])"
   ]
  },
  {
   "cell_type": "markdown",
   "metadata": {},
   "source": [
    "Write a function named increment_odds. It should accept a list of numbers and return a new list with the odd numbers from the original list incremented."
   ]
  },
  {
   "cell_type": "code",
   "execution_count": 3,
   "metadata": {},
   "outputs": [],
   "source": [
    "def increment_odds(nums):\n",
    "    \"\"\">>> from solutions import increment_odds\n",
    "    >>> type(increment_odds([1, 2, 3]))\n",
    "    <class 'list'>\n",
    "    >>> increment_odds([1, 2, 3])\n",
    "    [2, 2, 4]\n",
    "    >>> increment_odds([2, 2, 1, 4, 5])\n",
    "    [2, 2, 2, 4, 6]\n",
    "    >>> increment_odds([])\n",
    "    []\n",
    "    >>> increment_odds([0, 1])\n",
    "    [0, 2]\"\"\"\n",
    "    new_nums = []\n",
    "    for num in nums:\n",
    "        if num % 2 != 0:\n",
    "            num += 1\n",
    "            new_nums.append(num)\n",
    "        else:\n",
    "            num = num\n",
    "            new_nums.append(num)\n",
    "    return new_nums"
   ]
  },
  {
   "cell_type": "code",
   "execution_count": 9,
   "metadata": {},
   "outputs": [],
   "source": [
    "# insight from instructor - way to avoid else statement\n",
    "def increment_odds(nums):\n",
    "    new_nums = []\n",
    "    for num in nums:\n",
    "        if num % 2 != 0:\n",
    "            num += 1\n",
    "        new_nums.append(num)\n",
    "    return new_nums"
   ]
  },
  {
   "cell_type": "markdown",
   "metadata": {},
   "source": [
    "Write a function named average. It should accept a list of numbers and return the mean of the numbers."
   ]
  },
  {
   "cell_type": "code",
   "execution_count": 4,
   "metadata": {},
   "outputs": [],
   "source": [
    "def average(lst):\n",
    "    \"\"\">>> from solutions import average\n",
    "    >>> type(average([1, 2, 3]))\n",
    "    <class 'float'>\n",
    "    >>> average([1, 2, 3])\n",
    "    2.0\n",
    "    >>> average([4, 6, 8, 10, 12])\n",
    "    8.0\n",
    "    >>> average([1, 2])\n",
    "    1.5\n",
    "    \"\"\"\n",
    "    mean = sum(lst) / len(lst)\n",
    "    return mean"
   ]
  },
  {
   "cell_type": "markdown",
   "metadata": {},
   "source": [
    "Create a function named name_to_dict. It should accept a string that is a first name and last name separated by a space, and return a dictionary with first_name and last_name keys."
   ]
  },
  {
   "cell_type": "code",
   "execution_count": 5,
   "metadata": {},
   "outputs": [],
   "source": [
    "def name_to_dict(name):\n",
    "    \"\"\">>> from solutions import name_to_dict\n",
    "    >>> type(name_to_dict('Ada Lovelace'))\n",
    "    <class 'dict'>\n",
    "    >>> name_to_dict('Ada Lovelace')\n",
    "    {'first_name': 'Ada', 'last_name': 'Lovelace'}\n",
    "    >>> name_to_dict('Marie Curie')\n",
    "    {'first_name': 'Marie', 'last_name': 'Curie'}\n",
    "    \"\"\"\n",
    "    name_lst = name.split(\" \")\n",
    "    name_dict = {}\n",
    "    name_dict[\"first_name\"] = name_lst[0]\n",
    "    name_dict['last_name'] = name_lst[1]\n",
    "    return name_dict"
   ]
  },
  {
   "cell_type": "code",
   "execution_count": null,
   "metadata": {},
   "outputs": [],
   "source": [
    "# insight from instructor - I LIKE the way ths creates the dict in the return...nice\n",
    "def name_to_dict(name):\n",
    "    name_pieces = name.split(\" \")\n",
    "    first = name_pieces[0]\n",
    "    last = name_pieces[1]\n",
    "    return{\n",
    "        \"first_name\": first,\n",
    "        \"last_name\": last\n",
    "    }"
   ]
  },
  {
   "cell_type": "markdown",
   "metadata": {},
   "source": [
    "Write a function named capitalize_names. It should accept a list of dictionaries where each dictionary represents a person and has keys first_name and last_name. It should return a list of dictionaries with each person's name capitalized."
   ]
  },
  {
   "cell_type": "code",
   "execution_count": 6,
   "metadata": {},
   "outputs": [],
   "source": [
    "def capitalize_names(lst):\n",
    "    \"\"\">>> from solutions import capitalize_names\n",
    "    >>> names = []\n",
    "    >>> names.append({'first_name': 'ada', 'last_name': 'lovelace'})\n",
    "    >>> names.append({'first_name': 'marie', 'last_name': 'curie'})\n",
    "    >>> names\n",
    "    [{'first_name': 'ada', 'last_name': 'lovelace'}, {'first_name': 'marie', 'last_name': 'curie'}]\n",
    "    >>> type(names)\n",
    "    <class 'list'>\n",
    "    >>> capitalize_names(names)\n",
    "    [{'first_name': 'Ada', 'last_name': 'Lovelace'}, {'first_name': 'Marie', 'last_name': 'Curie'}]\n",
    "    >>> type(capitalize_names(names))\n",
    "    <class 'list'>\n",
    "    \"\"\"\n",
    "    for person in lst:\n",
    "        person[\"first_name\"] = person[\"first_name\"].capitalize()\n",
    "        person[\"last_name\"] = person[\"last_name\"].capitalize()\n",
    "    return lst"
   ]
  },
  {
   "cell_type": "code",
   "execution_count": null,
   "metadata": {},
   "outputs": [],
   "source": [
    "# insight from instructor - this way you do not alter the original list\n",
    "def capitalize_names(lst):\n",
    "    output = []\n",
    "    for name in names:\n",
    "        name = name[\"first_name\"].capitalize()\n",
    "        name = name[\"last_name\"].capitalize()\n",
    "        output.append(name)\n",
    "    return output"
   ]
  },
  {
   "cell_type": "markdown",
   "metadata": {},
   "source": [
    "Write a function named count_vowels. It should accept a word and return a number that is the number of vowels in the given word. \"y\" should not count as a vowel."
   ]
  },
  {
   "cell_type": "code",
   "execution_count": 7,
   "metadata": {},
   "outputs": [],
   "source": [
    "def count_vowels(word):\n",
    "    \"\"\">>> from solutions import count_vowels\n",
    "    >>> type(count_vowels('codeup'))\n",
    "    <class 'int'>\n",
    "    >>> count_vowels('codeup')\n",
    "    3\n",
    "    >>> count_vowels('abcde')\n",
    "    2\n",
    "    >>> count_vowels('why')\n",
    "    0\n",
    "    \"\"\"\n",
    "    return len([let for let in word if let in \"aeiou\"])"
   ]
  },
  {
   "cell_type": "code",
   "execution_count": null,
   "metadata": {},
   "outputs": [],
   "source": [
    "# insight from instructor - way to do it without list comprehension\n",
    "def count_vowels(word):\n",
    "    count = 0\n",
    "    for letter in word:\n",
    "        if letter.lower() in \"aeiou\":\n",
    "            count += 1\n",
    "    return count"
   ]
  },
  {
   "cell_type": "markdown",
   "metadata": {},
   "source": [
    "Write a function named analyze_word. It should accept a string that is a word and return a dictionary with information about the word, the total number of characters in the word, the original word, and the number of vowels in the word."
   ]
  },
  {
   "cell_type": "code",
   "execution_count": 8,
   "metadata": {},
   "outputs": [],
   "source": [
    "def analyze_word(word):\n",
    "    \"\"\">>> from solutions import analyze_word\n",
    "    >>> type(analyze_word('codeup'))\n",
    "    <class 'dict'>\n",
    "    >>> analyze_word('codeup')\n",
    "    {'word': 'codeup', 'n_letters': 6, 'n_vowels': 3}\n",
    "    >>> analyze_word('abcde')\n",
    "    {'word': 'abcde', 'n_letters': 5, 'n_vowels': 2}\n",
    "    >>> analyze_word('why')\n",
    "    {'word': 'why', 'n_letters': 3, 'n_vowels': 0}\n",
    "    \"\"\"\n",
    "    my_dict = {}\n",
    "    my_dict[\"word\"] = word\n",
    "    my_dict[\"n_letters\"] = len(word)\n",
    "    my_dict[\"n_vowels\"] = len([let for let in word if let in \"aeiou\"])\n",
    "    return my_dict\n"
   ]
  },
  {
   "cell_type": "code",
   "execution_count": null,
   "metadata": {},
   "outputs": [],
   "source": [
    "# insight from instructor - way to build the dictionary in the return and reuse your function\n",
    "return{\n",
    "    \"word\": word\n",
    "    \"n_letters\": len(word)\n",
    "    \"n_vowels\": count_vowels(word)\n",
    "    #\"n_vowels\": len([let for let in word if let in \"aeiou\"])\n",
    "}"
   ]
  },
  {
   "cell_type": "code",
   "execution_count": null,
   "metadata": {},
   "outputs": [],
   "source": [
    "# code to run docstring tests\n",
    "f __name__ == \"__main__\":\n",
    "    import doctest\n",
    "    doctest.testmod()"
   ]
  }
 ],
 "metadata": {
  "kernelspec": {
   "display_name": "Python 3",
   "language": "python",
   "name": "python3"
  },
  "language_info": {
   "codemirror_mode": {
    "name": "ipython",
    "version": 3
   },
   "file_extension": ".py",
   "mimetype": "text/x-python",
   "name": "python",
   "nbconvert_exporter": "python",
   "pygments_lexer": "ipython3",
   "version": "3.7.3"
  }
 },
 "nbformat": 4,
 "nbformat_minor": 2
}
