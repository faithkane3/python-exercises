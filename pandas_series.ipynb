{
 "cells": [
  {
   "cell_type": "code",
   "execution_count": 124,
   "metadata": {},
   "outputs": [],
   "source": [
    "import pandas as pd\n",
    "import numpy as np\n",
    "import matplotlib.pyplot as plt"
   ]
  },
  {
   "cell_type": "markdown",
   "metadata": {},
   "source": [
    "1. Use pandas to create a Series from the following data:\n",
    "\n",
    "[\"kiwi\", \"mango\", \"strawberry\", \"pineapple\", \"gala apple\", \"honeycrisp apple\", \"tomato\", \"watermelon\", \"honeydew\", \"kiwi\", \"kiwi\", \"kiwi\", \"mango\", \"blueberry\", \"blackberry\", \"gooseberry\", \"papaya\"]\n",
    "\n"
   ]
  },
  {
   "cell_type": "markdown",
   "metadata": {},
   "source": [
    "a. Name the variable that holds the series fruits.\n",
    "\n"
   ]
  },
  {
   "cell_type": "code",
   "execution_count": 178,
   "metadata": {},
   "outputs": [
    {
     "name": "stdout",
     "output_type": "stream",
     "text": [
      "0                 kiwi\n",
      "1                mango\n",
      "2           strawberry\n",
      "3            pineapple\n",
      "4           gala apple\n",
      "5     honeycrisp apple\n",
      "6               tomato\n",
      "7           watermelon\n",
      "8             honeydew\n",
      "9                 kiwi\n",
      "10                kiwi\n",
      "11                kiwi\n",
      "12               mango\n",
      "13           blueberry\n",
      "14          blackberry\n",
      "15          gooseberry\n",
      "16              papaya\n",
      "dtype: object\n",
      "<class 'pandas.core.series.Series'>\n"
     ]
    }
   ],
   "source": [
    "fruits = pd.Series([\"kiwi\", \"mango\", \"strawberry\", \"pineapple\", \"gala apple\", \"honeycrisp apple\", \"tomato\", \"watermelon\", \"honeydew\", \"kiwi\", \"kiwi\", \"kiwi\", \"mango\", \"blueberry\", \"blackberry\", \"gooseberry\", \"papaya\"]\n",
    ")\n",
    "print(fruits)\n",
    "print(type(fruits))"
   ]
  },
  {
   "cell_type": "markdown",
   "metadata": {},
   "source": [
    "b. Run .describe() on the series to see what describe returns for a series of strings.\n",
    "\n"
   ]
  },
  {
   "cell_type": "code",
   "execution_count": 8,
   "metadata": {},
   "outputs": [
    {
     "data": {
      "text/plain": [
       "count       17\n",
       "unique      13\n",
       "top       kiwi\n",
       "freq         4\n",
       "dtype: object"
      ]
     },
     "execution_count": 8,
     "metadata": {},
     "output_type": "execute_result"
    }
   ],
   "source": [
    "fruits.describe()"
   ]
  },
  {
   "cell_type": "markdown",
   "metadata": {},
   "source": [
    "c. Run the code necessary to produce only the unique fruit names.\n",
    "\n"
   ]
  },
  {
   "cell_type": "code",
   "execution_count": 89,
   "metadata": {},
   "outputs": [
    {
     "name": "stdout",
     "output_type": "stream",
     "text": [
      "['kiwi' 'mango' 'strawberry' 'pineapple' 'gala apple' 'honeycrisp apple'\n",
      " 'tomato' 'watermelon' 'honeydew' 'blueberry' 'blackberry' 'gooseberry'\n",
      " 'papaya']\n",
      "\n",
      "\n",
      "Number of unique fruits:  13\n"
     ]
    }
   ],
   "source": [
    "uniq_fruits = fruits.unique()\n",
    "print(uniq_fruits)\n",
    "print(\"\\n\")\n",
    "print(\"Number of unique fruits: \", len(uniq_fruits))"
   ]
  },
  {
   "cell_type": "markdown",
   "metadata": {},
   "source": [
    "d. Determine how many times each value occurs in the series.\n",
    "\n"
   ]
  },
  {
   "cell_type": "code",
   "execution_count": 22,
   "metadata": {},
   "outputs": [
    {
     "name": "stdout",
     "output_type": "stream",
     "text": [
      "kiwi                4\n",
      "mango               2\n",
      "blueberry           1\n",
      "honeydew            1\n",
      "pineapple           1\n",
      "blackberry          1\n",
      "papaya              1\n",
      "watermelon          1\n",
      "strawberry          1\n",
      "gooseberry          1\n",
      "honeycrisp apple    1\n",
      "tomato              1\n",
      "gala apple          1\n",
      "dtype: int64\n"
     ]
    },
    {
     "data": {
      "text/plain": [
       "pandas.core.series.Series"
      ]
     },
     "execution_count": 22,
     "metadata": {},
     "output_type": "execute_result"
    }
   ],
   "source": [
    "fruit_count = fruits.value_counts()\n",
    "print(fruit_count)\n",
    "type(fruit_count)"
   ]
  },
  {
   "cell_type": "markdown",
   "metadata": {},
   "source": [
    "e. Determine the most frequently occurring fruit name from the series.\n",
    "\n"
   ]
  },
  {
   "cell_type": "code",
   "execution_count": 31,
   "metadata": {},
   "outputs": [
    {
     "data": {
      "text/plain": [
       "4"
      ]
     },
     "execution_count": 31,
     "metadata": {},
     "output_type": "execute_result"
    }
   ],
   "source": [
    "# Note to self...\n",
    "#Yes! You can work with a Pandas Series like a dictionary with keys, value pairs\n",
    "fruits.value_counts()[\"kiwi\"]"
   ]
  },
  {
   "cell_type": "code",
   "execution_count": 150,
   "metadata": {},
   "outputs": [
    {
     "name": "stdout",
     "output_type": "stream",
     "text": [
      "kiwi\n"
     ]
    }
   ],
   "source": [
    "most_freq_fruit = fruit_count.idxmax()\n",
    "print(most_freq_fruit)\n",
    "\n",
    "#or fruits.mode()"
   ]
  },
  {
   "cell_type": "code",
   "execution_count": 158,
   "metadata": {},
   "outputs": [
    {
     "data": {
      "text/plain": [
       "blueberry           1\n",
       "honeydew            1\n",
       "pineapple           1\n",
       "blackberry          1\n",
       "papaya              1\n",
       "watermelon          1\n",
       "strawberry          1\n",
       "gooseberry          1\n",
       "honeycrisp apple    1\n",
       "tomato              1\n",
       "gala apple          1\n",
       "dtype: int64"
      ]
     },
     "execution_count": 158,
     "metadata": {},
     "output_type": "execute_result"
    }
   ],
   "source": [
    "least_freq_fruit = fruit_count.min()\n",
    "\n",
    "#create a boolean mask True for fruits matching least_freq_fruit\n",
    "mask = fruit_count == least_freq_fruit\n",
    "fruit_count[mask]\n"
   ]
  },
  {
   "cell_type": "markdown",
   "metadata": {},
   "source": [
    "g. Write the code to get the longest string from the fruits series.\n",
    "\n"
   ]
  },
  {
   "cell_type": "code",
   "execution_count": 173,
   "metadata": {},
   "outputs": [
    {
     "name": "stdout",
     "output_type": "stream",
     "text": [
      "4\n"
     ]
    }
   ],
   "source": [
    "most_freq_fruit = fruit_count.max()\n",
    "print(most_freq_fruit)\n",
    "fruit_names = pd.Series(uniq_fruits)\n",
    "mask = fruit_count == most_freq_fruit\n"
   ]
  },
  {
   "cell_type": "markdown",
   "metadata": {},
   "source": [
    "h. Find the fruit(s) with 5 or more letters in the name.\n",
    "\n"
   ]
  },
  {
   "cell_type": "code",
   "execution_count": 179,
   "metadata": {},
   "outputs": [
    {
     "data": {
      "text/plain": [
       "1                mango\n",
       "2           strawberry\n",
       "3            pineapple\n",
       "4           gala apple\n",
       "5     honeycrisp apple\n",
       "6               tomato\n",
       "7           watermelon\n",
       "8             honeydew\n",
       "12               mango\n",
       "13           blueberry\n",
       "14          blackberry\n",
       "15          gooseberry\n",
       "16              papaya\n",
       "dtype: object"
      ]
     },
     "execution_count": 179,
     "metadata": {},
     "output_type": "execute_result"
    }
   ],
   "source": [
    "# def more_than_five(word):\n",
    "#     length = len([let for let in word])\n",
    "#     return length >= 5\n",
    "\n",
    "# mask = fruits.apply(more_than_five)\n",
    "# fruits[mask]\n",
    "\n",
    "#OR\n",
    "\n",
    "fruits = pd.Series(fruits)\n",
    "more_than_five = fruits.apply(lambda x: len(x) >= 5)\n",
    "type(more_than_five)\n",
    "fruits[more_than_five]\n"
   ]
  },
  {
   "cell_type": "markdown",
   "metadata": {},
   "source": [
    "i. Capitalize all the fruit strings in the series.\n",
    "\n"
   ]
  },
  {
   "cell_type": "code",
   "execution_count": 62,
   "metadata": {},
   "outputs": [
    {
     "data": {
      "text/plain": [
       "0                 Kiwi\n",
       "1                Mango\n",
       "2           Strawberry\n",
       "3            Pineapple\n",
       "4           Gala apple\n",
       "5     Honeycrisp apple\n",
       "6               Tomato\n",
       "7           Watermelon\n",
       "8             Honeydew\n",
       "9                 Kiwi\n",
       "10                Kiwi\n",
       "11                Kiwi\n",
       "12               Mango\n",
       "13           Blueberry\n",
       "14          Blackberry\n",
       "15          Gooseberry\n",
       "16              Papaya\n",
       "dtype: object"
      ]
     },
     "execution_count": 62,
     "metadata": {},
     "output_type": "execute_result"
    }
   ],
   "source": [
    "fruits.apply(lambda s: s.capitalize()) #OR\n",
    "fruits.str.capitalize()"
   ]
  },
  {
   "cell_type": "markdown",
   "metadata": {},
   "source": [
    "j. Count the letter \"a\" in all the fruits (use string vectorization)\n",
    "\n"
   ]
  },
  {
   "cell_type": "code",
   "execution_count": 77,
   "metadata": {},
   "outputs": [
    {
     "name": "stdout",
     "output_type": "stream",
     "text": [
      "0                 kiwi\n",
      "1                mango\n",
      "2           strawberry\n",
      "3            pineapple\n",
      "4           gala apple\n",
      "5     honeycrisp apple\n",
      "6               tomato\n",
      "7           watermelon\n",
      "8             honeydew\n",
      "9                 kiwi\n",
      "10                kiwi\n",
      "11                kiwi\n",
      "12               mango\n",
      "13           blueberry\n",
      "14          blackberry\n",
      "15          gooseberry\n",
      "16              papaya\n",
      "dtype: object\n",
      "0     0\n",
      "1     1\n",
      "2     1\n",
      "3     1\n",
      "4     3\n",
      "5     1\n",
      "6     1\n",
      "7     1\n",
      "8     0\n",
      "9     0\n",
      "10    0\n",
      "11    0\n",
      "12    1\n",
      "13    0\n",
      "14    1\n",
      "15    0\n",
      "16    3\n",
      "dtype: int64\n",
      "\n",
      "\n",
      "Count of the letter 'a' in all the fruits: 14\n"
     ]
    }
   ],
   "source": [
    "def count_a(word):\n",
    "    \"\"\"count the times the letter 'a'\n",
    "    appears in a word\n",
    "    \"\"\"\n",
    "    return len([let for let in word if let in \"a\"])\n",
    "\n",
    "\n",
    "print(fruits)\n",
    "\n",
    "individual_count_a = fruits.apply(count_a)\n",
    "print(individual_count_a)\n",
    "print(\"\\n\")\n",
    "\n",
    "sum_of_a = fruits.apply(count_a).sum()\n",
    "print(\"Count of the letter 'a' in all the fruits:\", sum_of_a)"
   ]
  },
  {
   "cell_type": "code",
   "execution_count": 182,
   "metadata": {},
   "outputs": [
    {
     "data": {
      "text/plain": [
       "[('kiwi', 0),\n",
       " ('mango', 1),\n",
       " ('strawberry', 1),\n",
       " ('pineapple', 1),\n",
       " ('gala apple', 3),\n",
       " ('honeycrisp apple', 1),\n",
       " ('tomato', 1),\n",
       " ('watermelon', 1),\n",
       " ('honeydew', 0),\n",
       " ('kiwi', 0),\n",
       " ('kiwi', 0),\n",
       " ('kiwi', 0),\n",
       " ('mango', 1),\n",
       " ('blueberry', 0),\n",
       " ('blackberry', 1),\n",
       " ('gooseberry', 0),\n",
       " ('papaya', 3)]"
      ]
     },
     "execution_count": 182,
     "metadata": {},
     "output_type": "execute_result"
    }
   ],
   "source": [
    "# combining lists using zip()\n",
    "list(zip(fruits, individual_count_a))"
   ]
  },
  {
   "cell_type": "code",
   "execution_count": 181,
   "metadata": {},
   "outputs": [
    {
     "name": "stdout",
     "output_type": "stream",
     "text": [
      "              fruits  count of 'a'\n",
      "0               kiwi             0\n",
      "1              mango             1\n",
      "2         strawberry             1\n",
      "3          pineapple             1\n",
      "4         gala apple             3\n",
      "5   honeycrisp apple             1\n",
      "6             tomato             1\n",
      "7         watermelon             1\n",
      "8           honeydew             0\n",
      "9               kiwi             0\n",
      "10              kiwi             0\n",
      "11              kiwi             0\n",
      "12             mango             1\n",
      "13         blueberry             0\n",
      "14        blackberry             1\n",
      "15        gooseberry             0\n",
      "16            papaya             3\n"
     ]
    }
   ],
   "source": [
    "# combining lists using a dataframe\n",
    "df = pd.DataFrame(list(zip(fruits, individual_count_a)))\n",
    "df.columns = [\"fruits\", \"count of 'a'\"]\n",
    "print(df)"
   ]
  },
  {
   "cell_type": "markdown",
   "metadata": {},
   "source": [
    "k. Output the number of vowels in each and every fruit.\n",
    "\n"
   ]
  },
  {
   "cell_type": "code",
   "execution_count": 90,
   "metadata": {},
   "outputs": [
    {
     "name": "stdout",
     "output_type": "stream",
     "text": [
      "0     2\n",
      "1     2\n",
      "2     2\n",
      "3     4\n",
      "4     4\n",
      "5     5\n",
      "6     3\n",
      "7     4\n",
      "8     3\n",
      "9     2\n",
      "10    2\n",
      "11    2\n",
      "12    2\n",
      "13    3\n",
      "14    2\n",
      "15    4\n",
      "16    3\n",
      "dtype: int64\n",
      "\n",
      "\n",
      "Total vowels in all words in fruits:  49\n"
     ]
    }
   ],
   "source": [
    "def vowel_count(word):\n",
    "    return len([let for let in word if let in \"aeiou\"])\n",
    "\n",
    "print(fruits.apply(vowel_count))\n",
    "\n",
    "total_v = sum(fruits.apply(vowel_count))\n",
    "\n",
    "print(\"\\n\")\n",
    "\n",
    "print(\"Total vowels in all words in fruits: \", total_v)"
   ]
  },
  {
   "cell_type": "markdown",
   "metadata": {},
   "source": [
    "l. Use the .apply method and a lambda function to find the fruit(s) containing two or more \"o\" letters in the name."
   ]
  },
  {
   "cell_type": "code",
   "execution_count": 73,
   "metadata": {},
   "outputs": [
    {
     "data": {
      "text/plain": [
       "6         tomato\n",
       "15    gooseberry\n",
       "dtype: object"
      ]
     },
     "execution_count": 73,
     "metadata": {},
     "output_type": "execute_result"
    }
   ],
   "source": [
    "def o_count(word):\n",
    "    total_o = 0\n",
    "    for let in word:\n",
    "        if let == \"o\":\n",
    "            total_o += 1\n",
    "    return total_o\n",
    "\n",
    "mask = fruits.apply(lambda s: o_count(s) >= 2)\n",
    "fruits[mask]"
   ]
  },
  {
   "cell_type": "markdown",
   "metadata": {},
   "source": [
    "m. Write the code to get only the fruits containing \"berry\" in the name\n",
    "\n"
   ]
  },
  {
   "cell_type": "code",
   "execution_count": 130,
   "metadata": {},
   "outputs": [
    {
     "data": {
      "text/plain": [
       "2     strawberry\n",
       "13     blueberry\n",
       "14    blackberry\n",
       "15    gooseberry\n",
       "dtype: object"
      ]
     },
     "execution_count": 130,
     "metadata": {},
     "output_type": "execute_result"
    }
   ],
   "source": [
    "def word_in_word(word, word_part=\"berry\"):\n",
    "    return word_part in word\n",
    "    \n",
    "berry_mask = fruits.apply(word_in_word)\n",
    "fruits[berry_mask]"
   ]
  },
  {
   "cell_type": "markdown",
   "metadata": {},
   "source": [
    "n. Write the code to get only the fruits containing \"apple\" in the name\n",
    "\n"
   ]
  },
  {
   "cell_type": "code",
   "execution_count": 132,
   "metadata": {},
   "outputs": [
    {
     "data": {
      "text/plain": [
       "3           pineapple\n",
       "4          gala apple\n",
       "5    honeycrisp apple\n",
       "dtype: object"
      ]
     },
     "execution_count": 132,
     "metadata": {},
     "output_type": "execute_result"
    }
   ],
   "source": [
    "def word_in_word(word, word_part=\"apple\"):\n",
    "    return word_part in word\n",
    "\n",
    "apple_mask = fruits.apply(word_in_word)\n",
    "fruits[apple_mask]"
   ]
  },
  {
   "cell_type": "markdown",
   "metadata": {},
   "source": [
    "o. Which fruit has the highest amount of vowels?\n",
    "\n"
   ]
  },
  {
   "cell_type": "code",
   "execution_count": 185,
   "metadata": {},
   "outputs": [
    {
     "name": "stdout",
     "output_type": "stream",
     "text": [
      "0     2\n",
      "1     2\n",
      "2     2\n",
      "3     4\n",
      "4     4\n",
      "5     5\n",
      "6     3\n",
      "7     4\n",
      "8     3\n",
      "9     2\n",
      "10    2\n",
      "11    2\n",
      "12    2\n",
      "13    3\n",
      "14    2\n",
      "15    4\n",
      "16    3\n",
      "dtype: int64\n"
     ]
    }
   ],
   "source": [
    "def vowel_count(word):\n",
    "    return len([let for let in word if let in \"aeiou\"])\n",
    "vowels = fruits.apply(vowel_count)\n",
    "print(vowels)"
   ]
  },
  {
   "cell_type": "markdown",
   "metadata": {},
   "source": [
    "2. Use pandas to create a Series from the following data:\n",
    "\n",
    "\n",
    "['$796,459.41', '$278.60', '$482,571.67', '$4,503,915.98', '$2,121,418.3', '$1,260,813.3', '$87,231.01', '$1,509,175.45', '$4,138,548.00', '$2,848,913.80', '$594,715.39', '$4,789,988.17', '$4,513,644.5', '$3,191,059.97', '$1,758,712.24', '$4,338,283.54', '$4,738,303.38', '$2,791,759.67', '$769,681.94', '$452,650.23']\n",
    "\n",
    "    What is the data type of the series?\n",
    "\n",
    "    Use series operations to convert the series to a numeric data type.\n",
    "\n",
    "    What is the maximum value? The minimum?\n",
    "\n",
    "    Bin the data into 4 equally sized intervals and show how many values fall into each bin.\n",
    "\n",
    "    Plot a histogram of the data. Be sure to include a title and axis labels."
   ]
  },
  {
   "cell_type": "code",
   "execution_count": 93,
   "metadata": {},
   "outputs": [],
   "source": [
    "money = pd.Series(['$796,459.41', '$278.60', '$482,571.67', '$4,503,915.98', '$2,121,418.3', '$1,260,813.3', '$87,231.01', '$1,509,175.45', '$4,138,548.00', '$2,848,913.80', '$594,715.39', '$4,789,988.17', '$4,513,644.5', '$3,191,059.97', '$1,758,712.24', '$4,338,283.54', '$4,738,303.38', '$2,791,759.67', '$769,681.94', '$452,650.23']\n",
    ")"
   ]
  },
  {
   "cell_type": "code",
   "execution_count": 94,
   "metadata": {},
   "outputs": [
    {
     "data": {
      "text/plain": [
       "0       $796,459.41\n",
       "1           $278.60\n",
       "2       $482,571.67\n",
       "3     $4,503,915.98\n",
       "4      $2,121,418.3\n",
       "5      $1,260,813.3\n",
       "6        $87,231.01\n",
       "7     $1,509,175.45\n",
       "8     $4,138,548.00\n",
       "9     $2,848,913.80\n",
       "10      $594,715.39\n",
       "11    $4,789,988.17\n",
       "12     $4,513,644.5\n",
       "13    $3,191,059.97\n",
       "14    $1,758,712.24\n",
       "15    $4,338,283.54\n",
       "16    $4,738,303.38\n",
       "17    $2,791,759.67\n",
       "18      $769,681.94\n",
       "19      $452,650.23\n",
       "dtype: object"
      ]
     },
     "execution_count": 94,
     "metadata": {},
     "output_type": "execute_result"
    }
   ],
   "source": [
    "money"
   ]
  },
  {
   "cell_type": "code",
   "execution_count": 97,
   "metadata": {},
   "outputs": [
    {
     "data": {
      "text/plain": [
       "dtype('O')"
      ]
     },
     "execution_count": 97,
     "metadata": {},
     "output_type": "execute_result"
    }
   ],
   "source": [
    "money.dtype"
   ]
  },
  {
   "cell_type": "code",
   "execution_count": 109,
   "metadata": {},
   "outputs": [
    {
     "name": "stdout",
     "output_type": "stream",
     "text": [
      "0      796459.41\n",
      "1         278.60\n",
      "2      482571.67\n",
      "3     4503915.98\n",
      "4     2121418.30\n",
      "5     1260813.30\n",
      "6       87231.01\n",
      "7     1509175.45\n",
      "8     4138548.00\n",
      "9     2848913.80\n",
      "10     594715.39\n",
      "11    4789988.17\n",
      "12    4513644.50\n",
      "13    3191059.97\n",
      "14    1758712.24\n",
      "15    4338283.54\n",
      "16    4738303.38\n",
      "17    2791759.67\n",
      "18     769681.94\n",
      "19     452650.23\n",
      "dtype: float64\n"
     ]
    }
   ],
   "source": [
    "f_money = money.str.replace(\"$\", \"\").str.replace(\",\", \"_\").astype(\"float\")\n",
    "print(f_money)\n"
   ]
  },
  {
   "cell_type": "code",
   "execution_count": 112,
   "metadata": {},
   "outputs": [
    {
     "name": "stdout",
     "output_type": "stream",
     "text": [
      "4789988.17\n"
     ]
    }
   ],
   "source": [
    "max_f_money = f_money.max()\n",
    "print(max_f_money)"
   ]
  },
  {
   "cell_type": "code",
   "execution_count": 113,
   "metadata": {},
   "outputs": [
    {
     "name": "stdout",
     "output_type": "stream",
     "text": [
      "278.6\n"
     ]
    }
   ],
   "source": [
    "min_f_money = f_money.min()\n",
    "print(min_f_money)"
   ]
  },
  {
   "cell_type": "code",
   "execution_count": 117,
   "metadata": {},
   "outputs": [
    {
     "name": "stdout",
     "output_type": "stream",
     "text": [
      "0        (-4511.11, 1197705.993]\n",
      "1        (-4511.11, 1197705.993]\n",
      "2        (-4511.11, 1197705.993]\n",
      "3      (3592560.778, 4789988.17]\n",
      "4     (1197705.993, 2395133.385]\n",
      "5     (1197705.993, 2395133.385]\n",
      "6        (-4511.11, 1197705.993]\n",
      "7     (1197705.993, 2395133.385]\n",
      "8      (3592560.778, 4789988.17]\n",
      "9     (2395133.385, 3592560.778]\n",
      "10       (-4511.11, 1197705.993]\n",
      "11     (3592560.778, 4789988.17]\n",
      "12     (3592560.778, 4789988.17]\n",
      "13    (2395133.385, 3592560.778]\n",
      "14    (1197705.993, 2395133.385]\n",
      "15     (3592560.778, 4789988.17]\n",
      "16     (3592560.778, 4789988.17]\n",
      "17    (2395133.385, 3592560.778]\n",
      "18       (-4511.11, 1197705.993]\n",
      "19       (-4511.11, 1197705.993]\n",
      "dtype: category\n",
      "Categories (4, interval[float64]): [(-4511.11, 1197705.993] < (1197705.993, 2395133.385] < (2395133.385, 3592560.778] < (3592560.778, 4789988.17]]\n"
     ]
    },
    {
     "data": {
      "text/plain": [
       "(-4511.11, 1197705.993]       7\n",
       "(3592560.778, 4789988.17]     6\n",
       "(1197705.993, 2395133.385]    4\n",
       "(2395133.385, 3592560.778]    3\n",
       "dtype: int64"
      ]
     },
     "execution_count": 117,
     "metadata": {},
     "output_type": "execute_result"
    }
   ],
   "source": [
    "binned_money = pd.cut(f_money, 4)\n",
    "print(binned_money)\n",
    "binned_money.value_counts()"
   ]
  },
  {
   "cell_type": "code",
   "execution_count": 125,
   "metadata": {},
   "outputs": [
    {
     "data": {
      "image/png": "[encoded data removed]",
      "text/plain": [
       "<Figure size 432x288 with 1 Axes>"
      ]
     },
     "metadata": {
      "needs_background": "light"
     },
     "output_type": "display_data"
    }
   ],
   "source": [
    "f_money.plot.hist()\n",
    "\n",
    "plt.xlabel('USD')\n",
    "plt.ylabel(\"\")\n",
    "plt.title(\"Plot of f_money\")\n",
    "plt.show()"
   ]
  },
  {
   "cell_type": "markdown",
   "metadata": {},
   "source": [
    "3. Use pandas to create a Series from the following exam scores:\n",
    "\n",
    "\n",
    "[60, 86, 75, 62, 93, 71, 60, 83, 95, 78, 65, 72, 69, 81, 96, 80, 85, 92, 82, 78]\n",
    "\n",
    "    What is the minimum exam score? The max, mean, median?\n",
    "\n",
    "    Plot a histogram of the scores.\n",
    "\n",
    "    Convert each of the numbers above into a letter grade. For example, 86 \n",
    "    should be a 'B' and 95 should be an 'A'.\n",
    "\n",
    "    Write the code necessary to implement a curve. I.e. that grade closest to \n",
    "\n",
    "    100 should be converted to a 100, and that many points should be given to every other score as well."
   ]
  },
  {
   "cell_type": "code",
   "execution_count": 188,
   "metadata": {},
   "outputs": [],
   "source": [
    "grades = pd.Series([60, 86, 75, 62, 93, 71, 60, 83, 95, 78, 65, 72, 69, 81, 96, 80, 85, 92, 82, 78]\n",
    ")"
   ]
  },
  {
   "cell_type": "code",
   "execution_count": 190,
   "metadata": {},
   "outputs": [
    {
     "name": "stdout",
     "output_type": "stream",
     "text": [
      "60\n"
     ]
    }
   ],
   "source": [
    "lowest_score = grades.min()\n",
    "print(lowest_score)"
   ]
  },
  {
   "cell_type": "code",
   "execution_count": 191,
   "metadata": {},
   "outputs": [
    {
     "name": "stdout",
     "output_type": "stream",
     "text": [
      "96\n"
     ]
    }
   ],
   "source": [
    "highest_score = grades.max()\n",
    "print(highest_score)"
   ]
  },
  {
   "cell_type": "code",
   "execution_count": 202,
   "metadata": {},
   "outputs": [
    {
     "name": "stdout",
     "output_type": "stream",
     "text": [
      "79.0\n"
     ]
    }
   ],
   "source": [
    "median_score = grades.median()\n",
    "print(median_score)"
   ]
  },
  {
   "cell_type": "code",
   "execution_count": 208,
   "metadata": {},
   "outputs": [
    {
     "name": "stdout",
     "output_type": "stream",
     "text": [
      "0      64\n",
      "1      90\n",
      "2      79\n",
      "3      66\n",
      "4      97\n",
      "5      75\n",
      "6      64\n",
      "7      87\n",
      "8      99\n",
      "9      82\n",
      "10     69\n",
      "11     76\n",
      "12     73\n",
      "13     85\n",
      "14    100\n",
      "15     84\n",
      "16     89\n",
      "17     96\n",
      "18     86\n",
      "19     82\n",
      "dtype: int64\n"
     ]
    }
   ],
   "source": [
    "diff = 100 - highest_score\n",
    "\n",
    "curved_grades = grades + 4\n",
    "print(curved_grades)"
   ]
  },
  {
   "cell_type": "code",
   "execution_count": 209,
   "metadata": {},
   "outputs": [
    {
     "data": {
      "text/plain": [
       "0     D\n",
       "1     B\n",
       "2     C\n",
       "3     D\n",
       "4     A\n",
       "5     C\n",
       "6     D\n",
       "7     B\n",
       "8     A\n",
       "9     B\n",
       "10    D\n",
       "11    C\n",
       "12    C\n",
       "13    B\n",
       "14    A\n",
       "15    B\n",
       "16    B\n",
       "17    A\n",
       "18    B\n",
       "19    B\n",
       "dtype: category\n",
       "Categories (5, object): [F < D < C < B < A]"
      ]
     },
     "execution_count": 209,
     "metadata": {},
     "output_type": "execute_result"
    }
   ],
   "source": [
    "binned_grades = pd.cut(curved_grades, [0, 60, 70, 80, 90, 100], labels=[\"F\", \"D\", \"C\", \"B\", \"A\"])\n",
    "binned_grades"
   ]
  },
  {
   "cell_type": "code",
   "execution_count": 201,
   "metadata": {},
   "outputs": [
    {
     "data": {
      "text/plain": [
       "Text(0.5, 1.0, 'Exam Grades')"
      ]
     },
     "execution_count": 201,
     "metadata": {},
     "output_type": "execute_result"
    },
    {
     "data": {
      "image/png": "[encoded data removed]",
      "text/plain": [
       "<Figure size 432x288 with 1 Axes>"
      ]
     },
     "metadata": {
      "needs_background": "light"
     },
     "output_type": "display_data"
    }
   ],
   "source": [
    "binned_grades.value_counts().plot.bar(color='firebrick', width=.9)\n",
    "plt.title(\"Exam Grades\")"
   ]
  },
  {
   "cell_type": "markdown",
   "metadata": {},
   "source": [
    "4. Use pandas to create a Series from the following string:\n",
    "\n",
    "\n",
    "'hnvidduckkqxwymbimkccexbkmqygkxoyndmcxnwqarhyffsjpsrabtjzsypmzadfavyrnndndvswreauxovncxtwzpwejilzjrmmbbgbyxvjtewqthafnbkqplarokkyydtubbmnexoypulzwfhqvckdpqtpoppzqrmcvhhpwgjwupgzhiofohawytlsiyecuproguy'\n",
    "\n",
    "    What is the most frequently occuring letter? Least frequently occuring?\n",
    "    \n",
    "    How many vowels are in the list?\n",
    "    \n",
    "    How many consonants are in the list?\n",
    "    \n",
    "    Create a series that has all of the same letters, but uppercased\n",
    "    \n",
    "    Create a bar plot of the frequencies of the 6 most frequently occuring letters."
   ]
  },
  {
   "cell_type": "code",
   "execution_count": 243,
   "metadata": {},
   "outputs": [
    {
     "data": {
      "text/plain": [
       "0      h\n",
       "1      n\n",
       "2      v\n",
       "3      i\n",
       "4      d\n",
       "5      d\n",
       "6      u\n",
       "7      c\n",
       "8      k\n",
       "9      k\n",
       "10     q\n",
       "11     x\n",
       "12     w\n",
       "13     y\n",
       "14     m\n",
       "15     b\n",
       "16     i\n",
       "17     m\n",
       "18     k\n",
       "19     c\n",
       "20     c\n",
       "21     e\n",
       "22     x\n",
       "23     b\n",
       "24     k\n",
       "25     m\n",
       "26     q\n",
       "27     y\n",
       "28     g\n",
       "29     k\n",
       "      ..\n",
       "170    g\n",
       "171    j\n",
       "172    w\n",
       "173    u\n",
       "174    p\n",
       "175    g\n",
       "176    z\n",
       "177    h\n",
       "178    i\n",
       "179    o\n",
       "180    f\n",
       "181    o\n",
       "182    h\n",
       "183    a\n",
       "184    w\n",
       "185    y\n",
       "186    t\n",
       "187    l\n",
       "188    s\n",
       "189    i\n",
       "190    y\n",
       "191    e\n",
       "192    c\n",
       "193    u\n",
       "194    p\n",
       "195    r\n",
       "196    o\n",
       "197    g\n",
       "198    u\n",
       "199    y\n",
       "Name: letters, Length: 200, dtype: object"
      ]
     },
     "execution_count": 243,
     "metadata": {},
     "output_type": "execute_result"
    }
   ],
   "source": [
    "string = pd.Series(list('hnvidduckkqxwymbimkccexbkmqygkxoyndmcxnwqarhyffsjpsrabtjzsypmzadfavyrnndndvswreauxovncxtwzpwejilzjrmmbbgbyxvjtewqthafnbkqplarokkyydtubbmnexoypulzwfhqvckdpqtpoppzqrmcvhhpwgjwupgzhiofohawytlsiyecuproguy'\n",
    "))\n",
    "string.name = \"letters\"\n",
    "string"
   ]
  },
  {
   "cell_type": "code",
   "execution_count": 245,
   "metadata": {},
   "outputs": [
    {
     "name": "stdout",
     "output_type": "stream",
     "text": [
      "z\n"
     ]
    }
   ],
   "source": [
    "most_freq_letter = string.max()\n",
    "print(most_freq_letter)"
   ]
  },
  {
   "cell_type": "code",
   "execution_count": 244,
   "metadata": {},
   "outputs": [
    {
     "name": "stdout",
     "output_type": "stream",
     "text": [
      "a\n"
     ]
    }
   ],
   "source": [
    "least_freq_letter = string.min()\n",
    "print(least_freq_letter)"
   ]
  },
  {
   "cell_type": "code",
   "execution_count": 225,
   "metadata": {},
   "outputs": [
    {
     "name": "stdout",
     "output_type": "stream",
     "text": [
      "166\n"
     ]
    }
   ],
   "source": [
    "def cons(let):\n",
    "    return let not in \"aeiou\"\n",
    "\n",
    "cons_mask = string.apply(cons)\n",
    "cons_in_list = sum(cons_mask)\n",
    "print(cons_in_list)"
   ]
  },
  {
   "cell_type": "code",
   "execution_count": 246,
   "metadata": {},
   "outputs": [
    {
     "data": {
      "text/plain": [
       "0      H\n",
       "1      N\n",
       "2      V\n",
       "3      I\n",
       "4      D\n",
       "5      D\n",
       "6      U\n",
       "7      C\n",
       "8      K\n",
       "9      K\n",
       "10     Q\n",
       "11     X\n",
       "12     W\n",
       "13     Y\n",
       "14     M\n",
       "15     B\n",
       "16     I\n",
       "17     M\n",
       "18     K\n",
       "19     C\n",
       "20     C\n",
       "21     E\n",
       "22     X\n",
       "23     B\n",
       "24     K\n",
       "25     M\n",
       "26     Q\n",
       "27     Y\n",
       "28     G\n",
       "29     K\n",
       "      ..\n",
       "170    G\n",
       "171    J\n",
       "172    W\n",
       "173    U\n",
       "174    P\n",
       "175    G\n",
       "176    Z\n",
       "177    H\n",
       "178    I\n",
       "179    O\n",
       "180    F\n",
       "181    O\n",
       "182    H\n",
       "183    A\n",
       "184    W\n",
       "185    Y\n",
       "186    T\n",
       "187    L\n",
       "188    S\n",
       "189    I\n",
       "190    Y\n",
       "191    E\n",
       "192    C\n",
       "193    U\n",
       "194    P\n",
       "195    R\n",
       "196    O\n",
       "197    G\n",
       "198    U\n",
       "199    Y\n",
       "Name: letters, Length: 200, dtype: object"
      ]
     },
     "execution_count": 246,
     "metadata": {},
     "output_type": "execute_result"
    }
   ],
   "source": [
    "string.str.upper()"
   ]
  },
  {
   "cell_type": "code",
   "execution_count": 234,
   "metadata": {},
   "outputs": [
    {
     "data": {
      "text/plain": [
       "y    13\n",
       "p    12\n",
       "w    10\n",
       "n     9\n",
       "k     9\n",
       "m     9\n",
       "b     9\n",
       "dtype: int64"
      ]
     },
     "execution_count": 234,
     "metadata": {},
     "output_type": "execute_result"
    }
   ],
   "source": [
    "string_count = string.value_counts()\n",
    "top_six_mask = string_count >= 9\n",
    "top_six = string_count[top_six_mask]\n",
    "top_six"
   ]
  },
  {
   "cell_type": "code",
   "execution_count": 241,
   "metadata": {},
   "outputs": [
    {
     "data": {
      "text/plain": [
       "Text(0, 0.5, 'Frequency')"
      ]
     },
     "execution_count": 241,
     "metadata": {},
     "output_type": "execute_result"
    },
    {
     "data": {
      "image/png": "[encoded data removed]",
      "text/plain": [
       "<Figure size 432x288 with 1 Axes>"
      ]
     },
     "metadata": {
      "needs_background": "light"
     },
     "output_type": "display_data"
    }
   ],
   "source": [
    "top_six.plot.bar()\n",
    "plt.title(\"Top 6 Letters\")\n",
    "plt.ylabel(\"Frequency\")"
   ]
  },
  {
   "cell_type": "code",
   "execution_count": null,
   "metadata": {},
   "outputs": [],
   "source": []
  }
 ],
 "metadata": {
  "kernelspec": {
   "display_name": "Python 3",
   "language": "python",
   "name": "python3"
  },
  "language_info": {
   "codemirror_mode": {
    "name": "ipython",
    "version": 3
   },
   "file_extension": ".py",
   "mimetype": "text/x-python",
   "name": "python",
   "nbconvert_exporter": "python",
   "pygments_lexer": "ipython3",
   "version": "3.7.3"
  }
 },
 "nbformat": 4,
 "nbformat_minor": 2
}
