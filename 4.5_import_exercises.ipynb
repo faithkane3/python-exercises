{
 "cells": [
  {
   "cell_type": "markdown",
   "metadata": {},
   "source": [
    "## Imports\n",
    "\n",
    "### There are 3 main places we can import from:\n",
    "\n",
    "    -The Python standard library. This comes with the Python language, and no special action is needed in order to use it.\n",
    "    \n",
    "    -3rd party libraries. These require installation either through conda or pip.\n",
    "\n",
    "    -Our own code. We can break our code into separate files and use imports to use code from one file in another.\n",
    "    -Let's take a look at some examples:\n",
    "\n",
    "The simplest way to import a module is to use the import keyword and the name of the module."
   ]
  },
  {
   "cell_type": "code",
   "execution_count": 1,
   "metadata": {},
   "outputs": [],
   "source": [
    "import time"
   ]
  },
  {
   "cell_type": "markdown",
   "metadata": {},
   "source": [
    "Once we have imported the module, we can reference variables or functions defined in the module using a . after the module's name."
   ]
  },
  {
   "cell_type": "code",
   "execution_count": 2,
   "metadata": {},
   "outputs": [
    {
     "name": "stdout",
     "output_type": "stream",
     "text": [
      "All Done!\n"
     ]
    }
   ],
   "source": [
    "time.sleep(2)\n",
    "print('All Done!')"
   ]
  },
  {
   "cell_type": "markdown",
   "metadata": {},
   "source": [
    "We can also rename a module when we import it. This allows us to refer to the module with a different (often shorter) name."
   ]
  },
  {
   "cell_type": "code",
   "execution_count": 3,
   "metadata": {},
   "outputs": [
    {
     "name": "stdout",
     "output_type": "stream",
     "text": [
      "All Done!\n"
     ]
    }
   ],
   "source": [
    "import time as t\n",
    "\n",
    "t.sleep(2)\n",
    "print('All Done!')"
   ]
  },
  {
   "cell_type": "markdown",
   "metadata": {},
   "source": [
    "In addition to importing an entire module, we can import individual functions or variables using the from and import keywords."
   ]
  },
  {
   "cell_type": "code",
   "execution_count": 4,
   "metadata": {},
   "outputs": [
    {
     "name": "stdout",
     "output_type": "stream",
     "text": [
      "All Done!\n"
     ]
    }
   ],
   "source": [
    "from time import sleep\n",
    "\n",
    "sleep(2)\n",
    "print('All Done!')"
   ]
  },
  {
   "cell_type": "markdown",
   "metadata": {},
   "source": [
    "Like importing a module, you can rename individual functions when they are imported."
   ]
  },
  {
   "cell_type": "code",
   "execution_count": 5,
   "metadata": {},
   "outputs": [
    {
     "name": "stdout",
     "output_type": "stream",
     "text": [
      "All Done!\n"
     ]
    }
   ],
   "source": [
    "from time import sleep as wait\n",
    "\n",
    "wait(2)\n",
    "print('All Done!')"
   ]
  },
  {
   "cell_type": "markdown",
   "metadata": {},
   "source": [
    "## Importing From Your Own Code\n",
    "\n",
    "To import from code that you have written, simply reference the name of the file without the .py extension.\n",
    "\n",
    "### Naming Conventions\n",
    "\n",
    "In order to import from another file, that file's name (i.e. everything before the .py extension) must be a valid python identifier, that is, you could use it as a variable name.\n",
    "\n",
    "We have a file, util.py, in the same directory as the script we are running.\n",
    "\n",
    "util.py has the following contents:"
   ]
  },
  {
   "cell_type": "code",
   "execution_count": 6,
   "metadata": {},
   "outputs": [],
   "source": [
    "def sayhello():\n",
    "    print(\"Hello, World!\")"
   ]
  },
  {
   "cell_type": "markdown",
   "metadata": {},
   "source": [
    "We can import our file like this:"
   ]
  },
  {
   "cell_type": "code",
   "execution_count": null,
   "metadata": {},
   "outputs": [],
   "source": [
    "import util\n",
    "\n",
    "util.sayhello()"
   ]
  },
  {
   "cell_type": "markdown",
   "metadata": {},
   "source": [
    "When a module is imported, all the code in that file is executed. Sometimes this can produce some undesired side effects, so a best practice is to only have definitions inside of a module. If the module contains procedural code, that is, code that does something, we can place it inside of an if statement like this:"
   ]
  },
  {
   "cell_type": "code",
   "execution_count": null,
   "metadata": {},
   "outputs": [],
   "source": [
    "if __name__ == '__main__':\n",
    "    print('Hello, World!')"
   ]
  },
  {
   "cell_type": "markdown",
   "metadata": {},
   "source": [
    "The __name__ variable is a special variable that is set by python. It's value will be __main__ when the module is being run directly, but not when the module is being imported. This way you can write files that do something when you run them directly, but can also be imported from without producing side effects."
   ]
  },
  {
   "cell_type": "markdown",
   "metadata": {},
   "source": [
    "## Exercises\n",
    "\n",
    "Create a file named 4.5_import_exercises.py to do your work in.\n",
    "\n",
    "Import and test 3 of the functions from your functions exercise file.\n",
    "\n",
    "Your functions exercise are not currently in a file with a name that can be easily imported. Copy your functions exercise file and name the copy functions_exercises.py.\n",
    "\n",
    "Import each function in a different way:\n",
    "\n",
    "    -import the module and refer to the function with the . syntax\n",
    "    \n",
    "    -use from to import the function directly\n",
    "    \n",
    "    -use from and give the function a different name"
   ]
  },
  {
   "cell_type": "code",
   "execution_count": 7,
   "metadata": {},
   "outputs": [
    {
     "name": "stdout",
     "output_type": "stream",
     "text": [
      "Imported functions_exercises\n"
     ]
    }
   ],
   "source": [
    "import functions_exercises\n",
    "from functions_exercises import is_two\n",
    "from functions_exercises import is_consonant as iscon"
   ]
  },
  {
   "cell_type": "code",
   "execution_count": 8,
   "metadata": {},
   "outputs": [
    {
     "name": "stdout",
     "output_type": "stream",
     "text": [
      "False\n"
     ]
    }
   ],
   "source": [
    "question = functions_exercises.is_vowel(\"t\")\n",
    "print(question)"
   ]
  },
  {
   "cell_type": "code",
   "execution_count": 9,
   "metadata": {},
   "outputs": [
    {
     "name": "stdout",
     "output_type": "stream",
     "text": [
      "False\n"
     ]
    }
   ],
   "source": [
    "num_check = is_two(3)\n",
    "print(num_check)"
   ]
  },
  {
   "cell_type": "code",
   "execution_count": 10,
   "metadata": {},
   "outputs": [
    {
     "name": "stdout",
     "output_type": "stream",
     "text": [
      "True\n"
     ]
    }
   ],
   "source": [
    "check = iscon(\"t\")\n",
    "print(check)"
   ]
  },
  {
   "cell_type": "markdown",
   "metadata": {},
   "source": [
    "For the following exercises, read about and use the itertools module from the standard library to help you solve the problem."
   ]
  },
  {
   "cell_type": "markdown",
   "metadata": {},
   "source": [
    "1. How many different ways can you combine the letters from \"abc\" with the numbers 1, 2, and 3?"
   ]
  },
  {
   "cell_type": "code",
   "execution_count": 11,
   "metadata": {},
   "outputs": [
    {
     "name": "stdout",
     "output_type": "stream",
     "text": [
      "[('a', '1'), ('a', '2'), ('a', '3'), ('b', '1'), ('b', '2'), ('b', '3'), ('c', '1'), ('c', '2'), ('c', '3')]\n",
      "There are 9 possible combinations.\n"
     ]
    }
   ],
   "source": [
    "from itertools import product\n",
    "prod = list(product(\"abc\", \"123\"))\n",
    "num = len(prod)\n",
    "print(prod)\n",
    "print(f\"There are {num} possible combinations.\")"
   ]
  },
  {
   "cell_type": "markdown",
   "metadata": {},
   "source": [
    "2. How many different ways can you combine two of the letters from \"abcd\"?"
   ]
  },
  {
   "cell_type": "code",
   "execution_count": 12,
   "metadata": {},
   "outputs": [
    {
     "name": "stdout",
     "output_type": "stream",
     "text": [
      "[('a', 'a'), ('a', 'b'), ('a', 'c'), ('a', 'd'), ('b', 'b'), ('b', 'c'), ('b', 'd'), ('c', 'c'), ('c', 'd'), ('d', 'd')]\n",
      "There are 10 possible combinations.\n"
     ]
    }
   ],
   "source": [
    "from itertools import combinations_with_replacement as cwr\n",
    "combo = list(cwr(\"abcd\", 2))\n",
    "length = len(combo)\n",
    "print(combo)\n",
    "print(f\"There are {length} possible combinations.\")"
   ]
  },
  {
   "cell_type": "markdown",
   "metadata": {},
   "source": [
    "2. Number 2 using permutations instead of combinations_with_replacement"
   ]
  },
  {
   "cell_type": "code",
   "execution_count": 13,
   "metadata": {},
   "outputs": [
    {
     "name": "stdout",
     "output_type": "stream",
     "text": [
      "[('a', 'b'), ('a', 'c'), ('a', 'd'), ('b', 'a'), ('b', 'c'), ('b', 'd'), ('c', 'a'), ('c', 'b'), ('c', 'd'), ('d', 'a'), ('d', 'b'), ('d', 'c')]\n",
      "There are 12 possible combinations.\n"
     ]
    }
   ],
   "source": [
    "from itertools import permutations as per\n",
    "combo = list(per(\"abcd\", 2))\n",
    "length = len(combo)\n",
    "print(combo)\n",
    "print(f\"There are {length} possible combinations.\")"
   ]
  },
  {
   "cell_type": "markdown",
   "metadata": {},
   "source": [
    "Save this file as profiles.json inside of your exercises directory. Use the load function from the json module to open this file, it will produce a list of dictionaries. Using this data, write some code that calculates and outputs the following information:\n",
    "\n",
    "    -Total number of users\n",
    "    \n",
    "    -Number of active users\n",
    "\n",
    "    -Number of inactive users\n",
    "\n",
    "    -Grand total of balances for all users\n",
    "\n",
    "    -Average balance per user\n",
    "\n",
    "    -User with the lowest balance\n",
    "\n",
    "    -User with the highest balance\n",
    "    \n",
    "    -Most common favorite fruit\n",
    "\n",
    "    -Least most common favorite fruit\n",
    "\n",
    "    -Total number of unread messages for all users"
   ]
  },
  {
   "cell_type": "code",
   "execution_count": 14,
   "metadata": {},
   "outputs": [],
   "source": [
    "import json"
   ]
  },
  {
   "cell_type": "code",
   "execution_count": 17,
   "metadata": {},
   "outputs": [],
   "source": [
    "with open(\"profiles.json\", \"r\") as file:\n",
    "    profiles_dict = json.load(file)"
   ]
  },
  {
   "cell_type": "markdown",
   "metadata": {},
   "source": [
    "Total number of users"
   ]
  },
  {
   "cell_type": "code",
   "execution_count": 30,
   "metadata": {},
   "outputs": [
    {
     "name": "stdout",
     "output_type": "stream",
     "text": [
      "19\n"
     ]
    }
   ],
   "source": [
    "total_users = len([profile[\"_id\"] for profile in profiles_dict])\n",
    "print(total_users)"
   ]
  },
  {
   "cell_type": "markdown",
   "metadata": {},
   "source": [
    "Total number of active users:"
   ]
  },
  {
   "cell_type": "code",
   "execution_count": 28,
   "metadata": {},
   "outputs": [
    {
     "name": "stdout",
     "output_type": "stream",
     "text": [
      "9\n"
     ]
    }
   ],
   "source": [
    "total_active = len([profile[\"_id\"] for profile in profiles_dict if profile[\"isActive\"] == True])\n",
    "print(total_active)"
   ]
  },
  {
   "cell_type": "markdown",
   "metadata": {},
   "source": [
    "Total number of inactive users:"
   ]
  },
  {
   "cell_type": "code",
   "execution_count": 27,
   "metadata": {},
   "outputs": [
    {
     "name": "stdout",
     "output_type": "stream",
     "text": [
      "10\n"
     ]
    }
   ],
   "source": [
    "total_inactive = len([profile[\"_id\"] for profile in profiles_dict if profile[\"isActive\"] == False])\n",
    "print(total_inactive)"
   ]
  },
  {
   "cell_type": "markdown",
   "metadata": {},
   "source": [
    "Grand total of balances for all users"
   ]
  },
  {
   "cell_type": "code",
   "execution_count": 50,
   "metadata": {},
   "outputs": [
    {
     "name": "stdout",
     "output_type": "stream",
     "text": [
      "52667.02\n"
     ]
    }
   ],
   "source": [
    "balance_total = sum([float(profile[\"balance\"].strip(\"$\").replace(\",\", \"\")) for profile in profiles_dict])\n",
    "print(balance_total)"
   ]
  },
  {
   "cell_type": "markdown",
   "metadata": {},
   "source": [
    "Average balance per user"
   ]
  },
  {
   "cell_type": "code",
   "execution_count": 58,
   "metadata": {},
   "outputs": [
    {
     "name": "stdout",
     "output_type": "stream",
     "text": [
      "2771.95\n"
     ]
    }
   ],
   "source": [
    "avg_balance = balance_total / total_users\n",
    "print(round(avg_balance,2))"
   ]
  },
  {
   "cell_type": "markdown",
   "metadata": {},
   "source": [
    "User with the lowest balance"
   ]
  },
  {
   "cell_type": "code",
   "execution_count": 82,
   "metadata": {},
   "outputs": [
    {
     "name": "stdout",
     "output_type": "stream",
     "text": [
      "$1,214.10\n",
      "['Avery Flynn']\n"
     ]
    }
   ],
   "source": [
    "lowest_bal = min([profile[\"balance\"] for profile in profiles_dict])\n",
    "print(lowest_bal)\n",
    "lowest_user_bal = [profile[\"name\"] for profile in profiles_dict if profile[\"balance\"] == lowest_bal]\n",
    "print(lowest_user_bal)\n"
   ]
  },
  {
   "cell_type": "markdown",
   "metadata": {},
   "source": [
    "User with the highest balance"
   ]
  },
  {
   "cell_type": "code",
   "execution_count": 83,
   "metadata": {},
   "outputs": [
    {
     "name": "stdout",
     "output_type": "stream",
     "text": [
      "$3,919.64\n",
      "['Fay Hammond']\n"
     ]
    }
   ],
   "source": [
    "max_bal = max([profile[\"balance\"] for profile in profiles_dict])\n",
    "print(max_bal)\n",
    "max_bal = max([profile[\"balance\"] for profile in profiles_dict])\n",
    "user_max_bal = [profile[\"name\"] for profile in profiles_dict if profile[\"balance\"] == max_bal]\n",
    "print(user_max_bal)"
   ]
  },
  {
   "cell_type": "markdown",
   "metadata": {},
   "source": [
    "Most common favorite fruit"
   ]
  },
  {
   "cell_type": "code",
   "execution_count": 70,
   "metadata": {},
   "outputs": [
    {
     "name": "stdout",
     "output_type": "stream",
     "text": [
      "strawberry\n"
     ]
    }
   ],
   "source": [
    "fav_fruit = max([profile[\"favoriteFruit\"] for profile in profiles_dict])\n",
    "print(fav_fruit)"
   ]
  },
  {
   "cell_type": "markdown",
   "metadata": {},
   "source": [
    "Least most common favorite fruit"
   ]
  },
  {
   "cell_type": "code",
   "execution_count": 69,
   "metadata": {},
   "outputs": [
    {
     "name": "stdout",
     "output_type": "stream",
     "text": [
      "apple\n"
     ]
    }
   ],
   "source": [
    "least_fav_fruit = min([profile[\"favoriteFruit\"] for profile in profiles_dict])\n",
    "print(least_fav_fruit)"
   ]
  },
  {
   "cell_type": "markdown",
   "metadata": {},
   "source": [
    "Total number of unread messages for all users"
   ]
  },
  {
   "cell_type": "code",
   "execution_count": null,
   "metadata": {},
   "outputs": [],
   "source": [
    "unread_messages = []"
   ]
  }
 ],
 "metadata": {
  "kernelspec": {
   "display_name": "Python 3",
   "language": "python",
   "name": "python3"
  },
  "language_info": {
   "codemirror_mode": {
    "name": "ipython",
    "version": 3
   },
   "file_extension": ".py",
   "mimetype": "text/x-python",
   "name": "python",
   "nbconvert_exporter": "python",
   "pygments_lexer": "ipython3",
   "version": "3.7.3"
  }
 },
 "nbformat": 4,
 "nbformat_minor": 2
}
