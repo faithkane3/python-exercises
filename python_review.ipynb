{
 "cells": [
  {
   "cell_type": "code",
   "execution_count": 6,
   "metadata": {},
   "outputs": [
    {
     "data": {
      "text/plain": [
       "'bayes'"
      ]
     },
     "execution_count": 6,
     "metadata": {},
     "output_type": "execute_result"
    }
   ],
   "source": [
    "\"bayes\" #is a string literal"
   ]
  },
  {
   "cell_type": "code",
   "execution_count": 7,
   "metadata": {},
   "outputs": [],
   "source": [
    "my_string = \"bayes\"  #string assigned to a variable"
   ]
  },
  {
   "cell_type": "code",
   "execution_count": 8,
   "metadata": {},
   "outputs": [
    {
     "data": {
      "text/plain": [
       "'bayes'"
      ]
     },
     "execution_count": 8,
     "metadata": {},
     "output_type": "execute_result"
    }
   ],
   "source": [
    "my_string"
   ]
  },
  {
   "cell_type": "code",
   "execution_count": 11,
   "metadata": {},
   "outputs": [],
   "source": [
    "#to check your code run python -m doctest filename in your command line\n",
    "words = [\"codeup\", \"pip\", \"code\", \"welcome\"]\n",
    "# def keep_long_words(words):\n",
    "#     new_list = []\n",
    "#     for word in words:\n",
    "#         if len(word) > 4:\n",
    "#             new_list.append(word)\n",
    "#     return new_list\n",
    "    \n",
    "def keep_long_words(words):\n",
    "    return [word for word in words if len(word) > 4]"
   ]
  },
  {
   "cell_type": "code",
   "execution_count": 12,
   "metadata": {},
   "outputs": [
    {
     "data": {
      "text/plain": [
       "['codeup', 'welcome']"
      ]
     },
     "execution_count": 12,
     "metadata": {},
     "output_type": "execute_result"
    }
   ],
   "source": [
    "keep_long_words(words)"
   ]
  },
  {
   "cell_type": "code",
   "execution_count": 13,
   "metadata": {},
   "outputs": [
    {
     "name": "stdout",
     "output_type": "stream",
     "text": [
      "{'hours': 21, 'minutes': 30, 'seconds': 0}\n"
     ]
    }
   ],
   "source": [
    "# take a string 24 hour time in and output a dictionary with keys \"hours\", \"minutes\", \"seconds\"\n",
    "def extract_time_components(stime):\n",
    "    \"\"\"\n",
    "    >>> extract_time_components('21:30:00')\n",
    "    {'hours': 21, 'minutes': 30, 'seconds': 0}\n",
    "    >>> extract_time_components('09:01:53')\n",
    "    {'hours': 9, 'minutes': 1, 'seconds': 53}\n",
    "    \"\"\"\n",
    "    time_dict = {}\n",
    "    # for s in stime:\n",
    "    time_dict.update(\n",
    "                    {\"hours\" : int(stime[0:2]),\n",
    "                    \"minutes\" : int(stime[3:5]),\n",
    "                    \"seconds\" : int(stime[6:])})\n",
    "    return time_dict\n",
    "\n",
    "print(extract_time_components('21:30:00'))"
   ]
  },
  {
   "cell_type": "code",
   "execution_count": 14,
   "metadata": {},
   "outputs": [
    {
     "data": {
      "text/plain": [
       "{'hours': 21, 'minutes': 30, 'seconds': 0}"
      ]
     },
     "execution_count": 14,
     "metadata": {},
     "output_type": "execute_result"
    }
   ],
   "source": [
    "s = \"21:30:00\"\n",
    "hours, minutes, seconds = s.split(\":\")\n",
    "# you could do the list comp below instead of code above and then int() below\n",
    "# hours, minutes, seconds = [int(n) for n in s.split(\":\")]\n",
    "time_dict = {\n",
    "    \"hours\" : int(hours),\n",
    "    \"minutes\" : int(minutes), \n",
    "    \"seconds\" : int(seconds)\n",
    "}\n",
    "\n",
    "time_dict"
   ]
  },
  {
   "cell_type": "code",
   "execution_count": null,
   "metadata": {},
   "outputs": [],
   "source": []
  }
 ],
 "metadata": {
  "kernelspec": {
   "display_name": "Python 3",
   "language": "python",
   "name": "python3"
  },
  "language_info": {
   "codemirror_mode": {
    "name": "ipython",
    "version": 3
   },
   "file_extension": ".py",
   "mimetype": "text/x-python",
   "name": "python",
   "nbconvert_exporter": "python",
   "pygments_lexer": "ipython3",
   "version": "3.7.3"
  }
 },
 "nbformat": 4,
 "nbformat_minor": 2
}
