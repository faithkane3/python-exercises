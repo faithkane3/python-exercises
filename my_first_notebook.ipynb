{
 "cells": [
  {
   "cell_type": "code",
   "execution_count": 2,
   "metadata": {},
   "outputs": [],
   "source": [
    "greeting = \"Hello, \""
   ]
  },
  {
   "cell_type": "code",
   "execution_count": 3,
   "metadata": {},
   "outputs": [],
   "source": [
    "name = \"Faith\""
   ]
  },
  {
   "cell_type": "code",
   "execution_count": 5,
   "metadata": {},
   "outputs": [
    {
     "name": "stdout",
     "output_type": "stream",
     "text": [
      "Hello, Faith\n"
     ]
    }
   ],
   "source": [
    "print(greeting + name)"
   ]
  },
  {
   "cell_type": "markdown",
   "metadata": {},
   "source": [
    "While in edit mode, type M to change a cell type to markdown"
   ]
  },
  {
   "cell_type": "markdown",
   "metadata": {},
   "source": [
    "While in edit mode, Y changes a cell type to code"
   ]
  },
  {
   "cell_type": "markdown",
   "metadata": {},
   "source": [
    "While in command mode (Press ESC to activate), Enter takes you into edit mode "
   ]
  },
  {
   "cell_type": "markdown",
   "metadata": {},
   "source": [
    "To enter edit mode, click inside a cell and hit return."
   ]
  },
  {
   "cell_type": "markdown",
   "metadata": {},
   "source": [
    "In command mode, hit B to create a cell below\n",
    "In command mode, hit A to create a cell above"
   ]
  },
  {
   "cell_type": "markdown",
   "metadata": {},
   "source": [
    "A green cell signifies you are in edit mode.\n",
    "A blue cell signifies you are in command mode."
   ]
  },
  {
   "cell_type": "markdown",
   "metadata": {},
   "source": [
    "To get help in command mode, hit escape.  [Escape H]"
   ]
  },
  {
   "cell_type": "markdown",
   "metadata": {},
   "source": [
    "While in edit mode, undo is Cmd z. While in command mode, z will bring your cell back (undo)."
   ]
  },
  {
   "cell_type": "markdown",
   "metadata": {},
   "source": [
    "# one hashtag turns into heading 1"
   ]
  },
  {
   "cell_type": "markdown",
   "metadata": {},
   "source": [
    "## two hashtags turns into heading 2"
   ]
  },
  {
   "cell_type": "code",
   "execution_count": null,
   "metadata": {},
   "outputs": [],
   "source": []
  }
 ],
 "metadata": {
  "kernelspec": {
   "display_name": "Python 3",
   "language": "python",
   "name": "python3"
  },
  "language_info": {
   "codemirror_mode": {
    "name": "ipython",
    "version": 3
   },
   "file_extension": ".py",
   "mimetype": "text/x-python",
   "name": "python",
   "nbconvert_exporter": "python",
   "pygments_lexer": "ipython3",
   "version": "3.7.3"
  }
 },
 "nbformat": 4,
 "nbformat_minor": 2
}
