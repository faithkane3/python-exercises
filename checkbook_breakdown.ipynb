{
 "cells": [
  {
   "cell_type": "markdown",
   "metadata": {},
   "source": [
    "### Functions in .py file"
   ]
  },
  {
   "cell_type": "code",
   "execution_count": 9,
   "metadata": {},
   "outputs": [],
   "source": [
    "#balance = 500"
   ]
  },
  {
   "cell_type": "code",
   "execution_count": 12,
   "metadata": {},
   "outputs": [
    {
     "data": {
      "text/plain": [
       "450"
      ]
     },
     "execution_count": 12,
     "metadata": {},
     "output_type": "execute_result"
    }
   ],
   "source": [
    "# balance needs to come from running tab on txt file\n",
    "def debit(num):\n",
    "    balance = 500\n",
    "    balance -= num\n",
    "    return balance\n",
    "   \n",
    "\n",
    "debit(50)"
   ]
  },
  {
   "cell_type": "code",
   "execution_count": 13,
   "metadata": {},
   "outputs": [
    {
     "data": {
      "text/plain": [
       "560"
      ]
     },
     "execution_count": 13,
     "metadata": {},
     "output_type": "execute_result"
    }
   ],
   "source": [
    "# balance needs to come from running tab on txt file\n",
    "def deposit(num):\n",
    "    balance = 500\n",
    "    balance += num\n",
    "    return balance\n",
    "\n",
    "deposit(60)"
   ]
  },
  {
   "cell_type": "markdown",
   "metadata": {},
   "source": [
    "### Import Statements"
   ]
  },
  {
   "cell_type": "code",
   "execution_count": 14,
   "metadata": {},
   "outputs": [],
   "source": [
    "from checkbook_funcs import debit as deb\n",
    "from checkbook_funcs import deposit as dep\n",
    "from time import sleep as wait"
   ]
  },
  {
   "cell_type": "markdown",
   "metadata": {},
   "source": [
    "### Menu Structure"
   ]
  },
  {
   "cell_type": "code",
   "execution_count": null,
   "metadata": {},
   "outputs": [
    {
     "name": "stdout",
     "output_type": "stream",
     "text": [
      "\n",
      "--- Welcome to your terminal checkbook. ---\n",
      "\n",
      "\n",
      "What would you like to do today?\n",
      "\n",
      "1. view current balance\n",
      "2. record a debit (withdrawal)\n",
      "3. record a credit (deposit)\n",
      "4. exit\n",
      "\n",
      "Your choice: \n",
      "1\n",
      "What would you like to do today?\n",
      "\n",
      "1. view current balance\n",
      "2. record a debit (withdrawal)\n",
      "3. record a credit (deposit)\n",
      "4. exit\n",
      "\n"
     ]
    }
   ],
   "source": [
    "print(\"\\n--- Welcome to your terminal checkbook. ---\\n\\n\")\n",
    "while True:\n",
    "    wait(.5)\n",
    "    print(\n",
    "    \"What would you like to do today?\\n\\n\"\n",
    "    \"1. view current balance\\n\"\n",
    "    \"2. record a debit (withdrawal)\\n\"\n",
    "    \"3. record a credit (deposit)\\n\"\n",
    "    \"4. exit\\n\"\n",
    "    )\n",
    "    choice = input(\"Your choice: \\n\")\n",
    "    # if user doesn't choose 1, 2, 3, or 4 they will be prompted again for valid input\n",
    "    while choice not in \"1234\":\n",
    "        print(\"That is not a valid option.\\n\")\n",
    "        choice = input(\"Your choice: \\n\")\n",
    "        continue"
   ]
  },
  {
   "cell_type": "markdown",
   "metadata": {},
   "source": [
    "### Menu Choice 1 - Check Balance"
   ]
  },
  {
   "cell_type": "code",
   "execution_count": null,
   "metadata": {},
   "outputs": [],
   "source": [
    "if choice == \"1\":\n",
    "        wait(1)\n",
    "        r =  open(\"checkbook_info.txt\", \"r\")\n",
    "        print(f\"Your balance is ${r.readline()}\")\n",
    "        r.close()\n",
    "        wait(1)\n",
    "        # print(f\"Your current balance is ${balance}.\\n\")\n",
    "        # wait(1)\n",
    "        continue"
   ]
  },
  {
   "cell_type": "markdown",
   "metadata": {},
   "source": [
    "### Menu Choice 2 - Debit/Withdrawal"
   ]
  },
  {
   "cell_type": "code",
   "execution_count": null,
   "metadata": {},
   "outputs": [],
   "source": [
    "elif choice == \"2\":\n",
    "    try:\n",
    "        wait(1)\n",
    "        debit = int(input(\"How much would you like to withdrawal? \\n\"))\n",
    "        if debit > 0:\n",
    "            ra = open(\"checkbook_info.txt\", \"a+\")\n",
    "            balance = ra.readline()\n",
    "            deb(balance)\n",
    "            print(balance)\n",
    "            continue\n",
    "    except:\n",
    "        wait(1)\n",
    "        print(\"That is not a valid option.\\n\")\n",
    "        continue"
   ]
  },
  {
   "cell_type": "markdown",
   "metadata": {},
   "source": [
    "### Menu Choice 3 - Deposit"
   ]
  },
  {
   "cell_type": "code",
   "execution_count": null,
   "metadata": {},
   "outputs": [],
   "source": [
    "elif choice == \"3\":\n",
    "        try:\n",
    "            wait(1)\n",
    "            deposit = int(input(\"How much would you like to deposit? \\n\"))\n",
    "            if deposit > 0:\n",
    "                balance = dep(deposit)\n",
    "                print(balance)\n",
    "                wait(1)\n",
    "                continue\n",
    "        except:\n",
    "            print(\"That is not a valid option.\\n\")\n",
    "            continue"
   ]
  },
  {
   "cell_type": "markdown",
   "metadata": {},
   "source": [
    "### Menu Choice 4 - Exit"
   ]
  },
  {
   "cell_type": "code",
   "execution_count": null,
   "metadata": {},
   "outputs": [],
   "source": [
    "elif choice == \"4\":\n",
    "        print(\"\\nThanks! Have a great day.\")\n",
    "        break"
   ]
  },
  {
   "cell_type": "code",
   "execution_count": null,
   "metadata": {},
   "outputs": [],
   "source": [
    "def reader():\n",
    "    with open(\"checkbook_info.txt\", \"r\") as r\n",
    "    bal = 0\n",
    "    for line in r:\n",
    "        bal += float(line)\n",
    "        return bal\n",
    "        "
   ]
  },
  {
   "cell_type": "code",
   "execution_count": null,
   "metadata": {},
   "outputs": [],
   "source": [
    "# choice 2 will prompt for withdrawal amount\n",
    "    elif choice == \"2\":\n",
    "        #try:\n",
    "            wait(1)\n",
    "            debit = float(input(\"How much would you like to withdrawal? \\n\"))\n",
    "            if debit > 0:\n",
    "                with open(\"checkbook_info.txt\", \"a\") as writer:\n",
    "                    writer.write(\"\\n\")\n",
    "                    writer.write(debit * -1)\n",
    "                with open(\"checkbook_info.txt\", \"r\") as reader:\n",
    "                    bal = 0\n",
    "                    for line in reader:\n",
    "                        bal += float(line)\n",
    "                        print(f\"Your balance is ${bal}\")\n",
    "                        wait(1)\n",
    "                        continue\n",
    "        # except:\n",
    "        #     wait(1)\n",
    "        #     print(\"That is not a valid option.\\n\")\n",
    "        #     continue"
   ]
  },
  {
   "cell_type": "code",
   "execution_count": null,
   "metadata": {},
   "outputs": [],
   "source": [
    "#choice 3 will prompt user for deposit amount\n",
    "    elif choice == \"3\":\n",
    "        try:\n",
    "            wait(1)\n",
    "            deposit = int(input(\"How much would you like to deposit? \\n\"))\n",
    "            if deposit > 0:\n",
    "                balance = dep(deposit)\n",
    "                print(balance)\n",
    "                wait(1)\n",
    "                continue\n",
    "        except:\n",
    "            print(\"That is not a valid option.\\n\")\n",
    "            continue"
   ]
  },
  {
   "cell_type": "code",
   "execution_count": null,
   "metadata": {},
   "outputs": [],
   "source": [
    "# choice 4 will thank the user and exit while True\n",
    "    elif choice == \"4\":\n",
    "        print(\"\\nThanks! Have a great day.\")\n",
    "        break"
   ]
  }
 ],
 "metadata": {
  "kernelspec": {
   "display_name": "Python 3",
   "language": "python",
   "name": "python3"
  },
  "language_info": {
   "codemirror_mode": {
    "name": "ipython",
    "version": 3
   },
   "file_extension": ".py",
   "mimetype": "text/x-python",
   "name": "python",
   "nbconvert_exporter": "python",
   "pygments_lexer": "ipython3",
   "version": "3.7.3"
  }
 },
 "nbformat": 4,
 "nbformat_minor": 2
}
