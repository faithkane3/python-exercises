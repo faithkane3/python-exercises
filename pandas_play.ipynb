{
 "cells": [
  {
   "cell_type": "code",
   "execution_count": 1,
   "metadata": {},
   "outputs": [],
   "source": [
    "import pandas as pd\n",
    "import numpy as np\n",
    "from pydataset import data"
   ]
  },
  {
   "cell_type": "code",
   "execution_count": 2,
   "metadata": {},
   "outputs": [
    {
     "name": "stdout",
     "output_type": "stream",
     "text": [
      "Mammals\n",
      "\n",
      "PyDataset Documentation (adopted from R Documentation. The displayed examples are in R)\n",
      "\n",
      "## Garland(1983) Data on Running Speed of Mammals\n",
      "\n",
      "### Description\n",
      "\n",
      "Observations on the maximal running speed of mammal species and their body\n",
      "mass.\n",
      "\n",
      "### Usage\n",
      "\n",
      "    data(Mammals)\n",
      "\n",
      "### Format\n",
      "\n",
      "A data frame with 107 observations on the following 4 variables.\n",
      "\n",
      "weight\n",
      "\n",
      "Body mass in Kg for \"typical adult sizes\"\n",
      "\n",
      "speed\n",
      "\n",
      "Maximal running speed (fastest sprint velocity on record)\n",
      "\n",
      "hoppers\n",
      "\n",
      "logical variable indicating animals that ambulate by hopping, e.g. kangaroos\n",
      "\n",
      "specials\n",
      "\n",
      "logical variable indicating special animals with \"lifestyles in which speed\n",
      "does not figure as an important factor\": Hippopotamus, raccoon (Procyon),\n",
      "badger (Meles), coati (Nasua), skunk (Mephitis), man (Homo), porcupine\n",
      "(Erithizon), oppossum (didelphis), and sloth (Bradypus)\n",
      "\n",
      "### Details\n",
      "\n",
      "Used by Chappell (1989) and Koenker, Ng and Portnoy (1994) to illustrate the\n",
      "fitting of piecewise linear curves.\n",
      "\n",
      "### Source\n",
      "\n",
      "Garland, T. (1983) The relation between maximal running speed and body mass in\n",
      "terrestrial mammals, _J. Zoology_, 199, 1557-1570.\n",
      "\n",
      "### References\n",
      "\n",
      "Koenker, R., P. Ng and S. Portnoy, (1994) Quantile Smoothing Splines”\n",
      "_Biometrika_, 81, 673-680.\n",
      "\n",
      "Chappell, R. (1989) Fitting Bent Lines to Data, with Applications ot\n",
      "Allometry, _J. Theo. Biology_, 138, 235-256.\n",
      "\n",
      "### See Also\n",
      "\n",
      "`rqss`\n",
      "\n",
      "### Examples\n",
      "\n",
      "    data(Mammals)\n",
      "    attach(Mammals)\n",
      "    x <- log(weight)\n",
      "    y <- log(speed)\n",
      "    plot(x,y, xlab=\"Weight in log(Kg)\", ylab=\"Speed in log(Km/hour)\",type=\"n\")\n",
      "    points(x[hoppers],y[hoppers],pch = \"h\", col=\"red\")\n",
      "    points(x[specials],y[specials],pch = \"s\", col=\"blue\")\n",
      "    others <- (!hoppers & !specials)\n",
      "    points(x[others],y[others], col=\"black\",cex = .75)\n",
      "    fit <- rqss(y ~ qss(x, lambda = 1),tau = .9)\n",
      "    plot(fit)\n",
      "\n",
      "\n"
     ]
    }
   ],
   "source": [
    "Mammals = data(\"Mammals\")\n",
    "data(\"Mammals\", show_doc=True)"
   ]
  },
  {
   "cell_type": "code",
   "execution_count": 3,
   "metadata": {},
   "outputs": [
    {
     "data": {
      "text/plain": [
       "Index(['weight', 'speed', 'hoppers', 'specials'], dtype='object')"
      ]
     },
     "execution_count": 3,
     "metadata": {},
     "output_type": "execute_result"
    }
   ],
   "source": [
    "Mammals.columns"
   ]
  },
  {
   "cell_type": "code",
   "execution_count": 7,
   "metadata": {},
   "outputs": [
    {
     "data": {
      "text/plain": [
       "Int64Index([  1,   2,   3,   4,   5,   6,   7,   8,   9,  10,\n",
       "            ...\n",
       "             98,  99, 100, 101, 102, 103, 104, 105, 106, 107],\n",
       "           dtype='int64', length=107)"
      ]
     },
     "execution_count": 7,
     "metadata": {},
     "output_type": "execute_result"
    }
   ],
   "source": [
    "Mammals.index"
   ]
  },
  {
   "cell_type": "code",
   "execution_count": 14,
   "metadata": {},
   "outputs": [
    {
     "data": {
      "text/html": [
       "<div>\n",
       "<style scoped>\n",
       "    .dataframe tbody tr th:only-of-type {\n",
       "        vertical-align: middle;\n",
       "    }\n",
       "\n",
       "    .dataframe tbody tr th {\n",
       "        vertical-align: top;\n",
       "    }\n",
       "\n",
       "    .dataframe thead th {\n",
       "        text-align: right;\n",
       "    }\n",
       "</style>\n",
       "<table border=\"1\" class=\"dataframe\">\n",
       "  <thead>\n",
       "    <tr style=\"text-align: right;\">\n",
       "      <th></th>\n",
       "      <th>weight</th>\n",
       "      <th>speed</th>\n",
       "      <th>hoppers</th>\n",
       "      <th>specials</th>\n",
       "    </tr>\n",
       "  </thead>\n",
       "  <tbody>\n",
       "    <tr>\n",
       "      <th>96</th>\n",
       "      <td>4.6</td>\n",
       "      <td>64.0</td>\n",
       "      <td>True</td>\n",
       "      <td>False</td>\n",
       "    </tr>\n",
       "    <tr>\n",
       "      <th>97</th>\n",
       "      <td>4.4</td>\n",
       "      <td>72.0</td>\n",
       "      <td>True</td>\n",
       "      <td>False</td>\n",
       "    </tr>\n",
       "    <tr>\n",
       "      <th>98</th>\n",
       "      <td>4.0</td>\n",
       "      <td>72.0</td>\n",
       "      <td>True</td>\n",
       "      <td>False</td>\n",
       "    </tr>\n",
       "    <tr>\n",
       "      <th>99</th>\n",
       "      <td>3.5</td>\n",
       "      <td>56.0</td>\n",
       "      <td>True</td>\n",
       "      <td>False</td>\n",
       "    </tr>\n",
       "    <tr>\n",
       "      <th>100</th>\n",
       "      <td>2.0</td>\n",
       "      <td>64.0</td>\n",
       "      <td>True</td>\n",
       "      <td>False</td>\n",
       "    </tr>\n",
       "    <tr>\n",
       "      <th>101</th>\n",
       "      <td>1.9</td>\n",
       "      <td>56.0</td>\n",
       "      <td>True</td>\n",
       "      <td>False</td>\n",
       "    </tr>\n",
       "    <tr>\n",
       "      <th>102</th>\n",
       "      <td>1.5</td>\n",
       "      <td>50.0</td>\n",
       "      <td>True</td>\n",
       "      <td>False</td>\n",
       "    </tr>\n",
       "  </tbody>\n",
       "</table>\n",
       "</div>"
      ],
      "text/plain": [
       "     weight  speed  hoppers  specials\n",
       "96      4.6   64.0     True     False\n",
       "97      4.4   72.0     True     False\n",
       "98      4.0   72.0     True     False\n",
       "99      3.5   56.0     True     False\n",
       "100     2.0   64.0     True     False\n",
       "101     1.9   56.0     True     False\n",
       "102     1.5   50.0     True     False"
      ]
     },
     "execution_count": 14,
     "metadata": {},
     "output_type": "execute_result"
    }
   ],
   "source": [
    "hoppers_above_med_sp = (Mammals.speed > Mammals.speed.median()) & (Mammals.hoppers == True)\n",
    "Mammals[hoppers_above_med_sp]"
   ]
  },
  {
   "cell_type": "code",
   "execution_count": 9,
   "metadata": {},
   "outputs": [
    {
     "data": {
      "text/plain": [
       "48.0"
      ]
     },
     "execution_count": 9,
     "metadata": {},
     "output_type": "execute_result"
    }
   ],
   "source": [
    "Mammals[\"speed\"].median()"
   ]
  },
  {
   "cell_type": "code",
   "execution_count": 15,
   "metadata": {},
   "outputs": [],
   "source": [
    "# employees[employees.hire_dat.str.contains(\"12-25\")]\n",
    "\n",
    "# mpg[mpg.hwy > 35][\"hwy\", \"model\"]\n",
    "# SELECT hwy, model\n",
    "# FROM mpg\n",
    "# WHERE hwy > 35\n",
    "\n",
    "# mpg[[\"hwy\", \"model\"]]     double brackets give you back a dataframe containing only columns specififed\n",
    "\n",
    "# mpg.hwy\n",
    "# mpg[\"hwy\"]\n",
    "\n",
    "# Imagine the above in sQL\n",
    "# SELECT * FROM mpg\n",
    "# WHERE hwy > 35"
   ]
  },
  {
   "cell_type": "code",
   "execution_count": 16,
   "metadata": {},
   "outputs": [],
   "source": [
    "students = ['Sally', 'Jane', 'Suzie', 'Billy', 'Ada', 'John', 'Thomas',\n",
    "            'Marie', 'Albert', 'Richard', 'Isaac', 'Alan']"
   ]
  },
  {
   "cell_type": "code",
   "execution_count": 17,
   "metadata": {},
   "outputs": [],
   "source": [
    "example = pd.DataFrame({\"fruits\": [\"kiwi\"]})"
   ]
  },
  {
   "cell_type": "code",
   "execution_count": 18,
   "metadata": {},
   "outputs": [
    {
     "data": {
      "text/html": [
       "<div>\n",
       "<style scoped>\n",
       "    .dataframe tbody tr th:only-of-type {\n",
       "        vertical-align: middle;\n",
       "    }\n",
       "\n",
       "    .dataframe tbody tr th {\n",
       "        vertical-align: top;\n",
       "    }\n",
       "\n",
       "    .dataframe thead th {\n",
       "        text-align: right;\n",
       "    }\n",
       "</style>\n",
       "<table border=\"1\" class=\"dataframe\">\n",
       "  <thead>\n",
       "    <tr style=\"text-align: right;\">\n",
       "      <th></th>\n",
       "      <th>fruits</th>\n",
       "    </tr>\n",
       "  </thead>\n",
       "  <tbody>\n",
       "    <tr>\n",
       "      <th>0</th>\n",
       "      <td>kiwi</td>\n",
       "    </tr>\n",
       "  </tbody>\n",
       "</table>\n",
       "</div>"
      ],
      "text/plain": [
       "  fruits\n",
       "0   kiwi"
      ]
     },
     "execution_count": 18,
     "metadata": {},
     "output_type": "execute_result"
    }
   ],
   "source": [
    "example"
   ]
  },
  {
   "cell_type": "code",
   "execution_count": 19,
   "metadata": {},
   "outputs": [],
   "source": [
    "example[\"banana\"] = 2"
   ]
  },
  {
   "cell_type": "code",
   "execution_count": 20,
   "metadata": {},
   "outputs": [
    {
     "data": {
      "text/html": [
       "<div>\n",
       "<style scoped>\n",
       "    .dataframe tbody tr th:only-of-type {\n",
       "        vertical-align: middle;\n",
       "    }\n",
       "\n",
       "    .dataframe tbody tr th {\n",
       "        vertical-align: top;\n",
       "    }\n",
       "\n",
       "    .dataframe thead th {\n",
       "        text-align: right;\n",
       "    }\n",
       "</style>\n",
       "<table border=\"1\" class=\"dataframe\">\n",
       "  <thead>\n",
       "    <tr style=\"text-align: right;\">\n",
       "      <th></th>\n",
       "      <th>fruits</th>\n",
       "      <th>banana</th>\n",
       "    </tr>\n",
       "  </thead>\n",
       "  <tbody>\n",
       "    <tr>\n",
       "      <th>0</th>\n",
       "      <td>kiwi</td>\n",
       "      <td>2</td>\n",
       "    </tr>\n",
       "  </tbody>\n",
       "</table>\n",
       "</div>"
      ],
      "text/plain": [
       "  fruits  banana\n",
       "0   kiwi       2"
      ]
     },
     "execution_count": 20,
     "metadata": {},
     "output_type": "execute_result"
    }
   ],
   "source": [
    "example"
   ]
  },
  {
   "cell_type": "code",
   "execution_count": null,
   "metadata": {},
   "outputs": [],
   "source": []
  }
 ],
 "metadata": {
  "kernelspec": {
   "display_name": "Python 3",
   "language": "python",
   "name": "python3"
  },
  "language_info": {
   "codemirror_mode": {
    "name": "ipython",
    "version": 3
   },
   "file_extension": ".py",
   "mimetype": "text/x-python",
   "name": "python",
   "nbconvert_exporter": "python",
   "pygments_lexer": "ipython3",
   "version": "3.7.3"
  }
 },
 "nbformat": 4,
 "nbformat_minor": 2
}
